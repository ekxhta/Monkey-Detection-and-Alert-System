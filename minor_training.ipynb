{
  "nbformat": 4,
  "nbformat_minor": 0,
  "metadata": {
    "colab": {
      "provenance": [],
      "gpuType": "T4"
    },
    "kernelspec": {
      "name": "python3",
      "display_name": "Python 3"
    },
    "language_info": {
      "name": "python"
    },
    "accelerator": "GPU"
  },
  "cells": [
    {
      "cell_type": "code",
      "source": [
        "# Install YOLOv8\n",
        "!pip install ultralytics\n",
        "\n",
        "# Import libraries\n",
        "from ultralytics import YOLO\n"
      ],
      "metadata": {
        "id": "xyJu7B3HEETn",
        "colab": {
          "base_uri": "https://localhost:8080/"
        },
        "outputId": "0b09eaba-8c00-4f2c-d7a9-9cf2204338ed"
      },
      "execution_count": null,
      "outputs": [
        {
          "output_type": "stream",
          "name": "stdout",
          "text": [
            "Requirement already satisfied: ultralytics in /usr/local/lib/python3.11/dist-packages (8.3.123)\n",
            "Requirement already satisfied: numpy>=1.23.0 in /usr/local/lib/python3.11/dist-packages (from ultralytics) (2.0.2)\n",
            "Requirement already satisfied: matplotlib>=3.3.0 in /usr/local/lib/python3.11/dist-packages (from ultralytics) (3.10.0)\n",
            "Requirement already satisfied: opencv-python>=4.6.0 in /usr/local/lib/python3.11/dist-packages (from ultralytics) (4.11.0.86)\n",
            "Requirement already satisfied: pillow>=7.1.2 in /usr/local/lib/python3.11/dist-packages (from ultralytics) (11.2.1)\n",
            "Requirement already satisfied: pyyaml>=5.3.1 in /usr/local/lib/python3.11/dist-packages (from ultralytics) (6.0.2)\n",
            "Requirement already satisfied: requests>=2.23.0 in /usr/local/lib/python3.11/dist-packages (from ultralytics) (2.32.3)\n",
            "Requirement already satisfied: scipy>=1.4.1 in /usr/local/lib/python3.11/dist-packages (from ultralytics) (1.15.2)\n",
            "Requirement already satisfied: torch>=1.8.0 in /usr/local/lib/python3.11/dist-packages (from ultralytics) (2.6.0+cu124)\n",
            "Requirement already satisfied: torchvision>=0.9.0 in /usr/local/lib/python3.11/dist-packages (from ultralytics) (0.21.0+cu124)\n",
            "Requirement already satisfied: tqdm>=4.64.0 in /usr/local/lib/python3.11/dist-packages (from ultralytics) (4.67.1)\n",
            "Requirement already satisfied: psutil in /usr/local/lib/python3.11/dist-packages (from ultralytics) (5.9.5)\n",
            "Requirement already satisfied: py-cpuinfo in /usr/local/lib/python3.11/dist-packages (from ultralytics) (9.0.0)\n",
            "Requirement already satisfied: pandas>=1.1.4 in /usr/local/lib/python3.11/dist-packages (from ultralytics) (2.2.2)\n",
            "Requirement already satisfied: seaborn>=0.11.0 in /usr/local/lib/python3.11/dist-packages (from ultralytics) (0.13.2)\n",
            "Requirement already satisfied: ultralytics-thop>=2.0.0 in /usr/local/lib/python3.11/dist-packages (from ultralytics) (2.0.14)\n",
            "Requirement already satisfied: contourpy>=1.0.1 in /usr/local/lib/python3.11/dist-packages (from matplotlib>=3.3.0->ultralytics) (1.3.2)\n",
            "Requirement already satisfied: cycler>=0.10 in /usr/local/lib/python3.11/dist-packages (from matplotlib>=3.3.0->ultralytics) (0.12.1)\n",
            "Requirement already satisfied: fonttools>=4.22.0 in /usr/local/lib/python3.11/dist-packages (from matplotlib>=3.3.0->ultralytics) (4.57.0)\n",
            "Requirement already satisfied: kiwisolver>=1.3.1 in /usr/local/lib/python3.11/dist-packages (from matplotlib>=3.3.0->ultralytics) (1.4.8)\n",
            "Requirement already satisfied: packaging>=20.0 in /usr/local/lib/python3.11/dist-packages (from matplotlib>=3.3.0->ultralytics) (24.2)\n",
            "Requirement already satisfied: pyparsing>=2.3.1 in /usr/local/lib/python3.11/dist-packages (from matplotlib>=3.3.0->ultralytics) (3.2.3)\n",
            "Requirement already satisfied: python-dateutil>=2.7 in /usr/local/lib/python3.11/dist-packages (from matplotlib>=3.3.0->ultralytics) (2.9.0.post0)\n",
            "Requirement already satisfied: pytz>=2020.1 in /usr/local/lib/python3.11/dist-packages (from pandas>=1.1.4->ultralytics) (2025.2)\n",
            "Requirement already satisfied: tzdata>=2022.7 in /usr/local/lib/python3.11/dist-packages (from pandas>=1.1.4->ultralytics) (2025.2)\n",
            "Requirement already satisfied: charset-normalizer<4,>=2 in /usr/local/lib/python3.11/dist-packages (from requests>=2.23.0->ultralytics) (3.4.1)\n",
            "Requirement already satisfied: idna<4,>=2.5 in /usr/local/lib/python3.11/dist-packages (from requests>=2.23.0->ultralytics) (3.10)\n",
            "Requirement already satisfied: urllib3<3,>=1.21.1 in /usr/local/lib/python3.11/dist-packages (from requests>=2.23.0->ultralytics) (2.4.0)\n",
            "Requirement already satisfied: certifi>=2017.4.17 in /usr/local/lib/python3.11/dist-packages (from requests>=2.23.0->ultralytics) (2025.4.26)\n",
            "Requirement already satisfied: filelock in /usr/local/lib/python3.11/dist-packages (from torch>=1.8.0->ultralytics) (3.18.0)\n",
            "Requirement already satisfied: typing-extensions>=4.10.0 in /usr/local/lib/python3.11/dist-packages (from torch>=1.8.0->ultralytics) (4.13.2)\n",
            "Requirement already satisfied: networkx in /usr/local/lib/python3.11/dist-packages (from torch>=1.8.0->ultralytics) (3.4.2)\n",
            "Requirement already satisfied: jinja2 in /usr/local/lib/python3.11/dist-packages (from torch>=1.8.0->ultralytics) (3.1.6)\n",
            "Requirement already satisfied: fsspec in /usr/local/lib/python3.11/dist-packages (from torch>=1.8.0->ultralytics) (2025.3.2)\n",
            "Requirement already satisfied: nvidia-cuda-nvrtc-cu12==12.4.127 in /usr/local/lib/python3.11/dist-packages (from torch>=1.8.0->ultralytics) (12.4.127)\n",
            "Requirement already satisfied: nvidia-cuda-runtime-cu12==12.4.127 in /usr/local/lib/python3.11/dist-packages (from torch>=1.8.0->ultralytics) (12.4.127)\n",
            "Requirement already satisfied: nvidia-cuda-cupti-cu12==12.4.127 in /usr/local/lib/python3.11/dist-packages (from torch>=1.8.0->ultralytics) (12.4.127)\n",
            "Requirement already satisfied: nvidia-cudnn-cu12==9.1.0.70 in /usr/local/lib/python3.11/dist-packages (from torch>=1.8.0->ultralytics) (9.1.0.70)\n",
            "Requirement already satisfied: nvidia-cublas-cu12==12.4.5.8 in /usr/local/lib/python3.11/dist-packages (from torch>=1.8.0->ultralytics) (12.4.5.8)\n",
            "Requirement already satisfied: nvidia-cufft-cu12==11.2.1.3 in /usr/local/lib/python3.11/dist-packages (from torch>=1.8.0->ultralytics) (11.2.1.3)\n",
            "Requirement already satisfied: nvidia-curand-cu12==10.3.5.147 in /usr/local/lib/python3.11/dist-packages (from torch>=1.8.0->ultralytics) (10.3.5.147)\n",
            "Requirement already satisfied: nvidia-cusolver-cu12==11.6.1.9 in /usr/local/lib/python3.11/dist-packages (from torch>=1.8.0->ultralytics) (11.6.1.9)\n",
            "Requirement already satisfied: nvidia-cusparse-cu12==12.3.1.170 in /usr/local/lib/python3.11/dist-packages (from torch>=1.8.0->ultralytics) (12.3.1.170)\n",
            "Requirement already satisfied: nvidia-cusparselt-cu12==0.6.2 in /usr/local/lib/python3.11/dist-packages (from torch>=1.8.0->ultralytics) (0.6.2)\n",
            "Requirement already satisfied: nvidia-nccl-cu12==2.21.5 in /usr/local/lib/python3.11/dist-packages (from torch>=1.8.0->ultralytics) (2.21.5)\n",
            "Requirement already satisfied: nvidia-nvtx-cu12==12.4.127 in /usr/local/lib/python3.11/dist-packages (from torch>=1.8.0->ultralytics) (12.4.127)\n",
            "Requirement already satisfied: nvidia-nvjitlink-cu12==12.4.127 in /usr/local/lib/python3.11/dist-packages (from torch>=1.8.0->ultralytics) (12.4.127)\n",
            "Requirement already satisfied: triton==3.2.0 in /usr/local/lib/python3.11/dist-packages (from torch>=1.8.0->ultralytics) (3.2.0)\n",
            "Requirement already satisfied: sympy==1.13.1 in /usr/local/lib/python3.11/dist-packages (from torch>=1.8.0->ultralytics) (1.13.1)\n",
            "Requirement already satisfied: mpmath<1.4,>=1.1.0 in /usr/local/lib/python3.11/dist-packages (from sympy==1.13.1->torch>=1.8.0->ultralytics) (1.3.0)\n",
            "Requirement already satisfied: six>=1.5 in /usr/local/lib/python3.11/dist-packages (from python-dateutil>=2.7->matplotlib>=3.3.0->ultralytics) (1.17.0)\n",
            "Requirement already satisfied: MarkupSafe>=2.0 in /usr/local/lib/python3.11/dist-packages (from jinja2->torch>=1.8.0->ultralytics) (3.0.2)\n"
          ]
        }
      ]
    },
    {
      "cell_type": "code",
      "source": [
        "from google.colab import drive\n",
        "drive.mount('/content/drive')\n"
      ],
      "metadata": {
        "colab": {
          "base_uri": "https://localhost:8080/"
        },
        "id": "YoN26G4wiPQ_",
        "outputId": "119af7af-bc1d-4e09-8ec4-c306abc5ed72"
      },
      "execution_count": null,
      "outputs": [
        {
          "output_type": "stream",
          "name": "stdout",
          "text": [
            "Mounted at /content/drive\n"
          ]
        }
      ]
    },
    {
      "cell_type": "code",
      "source": [
        "from ultralytics import YOLO\n",
        "\n",
        "model = YOLO('yolov8l.pt')\n",
        "model.train(data=\"/content/drive/MyDrive/Monkey.v11-noaugmentation.yolov8/data.yaml\", epochs=50, imgsz=640, batch=16)\n"
      ],
      "metadata": {
        "colab": {
          "base_uri": "https://localhost:8080/"
        },
        "id": "jNkVlTeGrZ1w",
        "outputId": "38fff4f8-0e31-4922-e43f-cd0c9576304a"
      },
      "execution_count": null,
      "outputs": [
        {
          "metadata": {
            "tags": null
          },
          "name": "stdout",
          "output_type": "stream",
          "text": [
            "Ultralytics 8.3.123 🚀 Python-3.11.12 torch-2.6.0+cu124 CUDA:0 (Tesla T4, 15095MiB)\n",
            "\u001b[34m\u001b[1mengine/trainer: \u001b[0mtask=detect, mode=train, model=yolov8l.pt, data=/content/drive/MyDrive/Monkey.v11-noaugmentation.yolov8/data.yaml, epochs=50, time=None, patience=100, batch=16, imgsz=640, save=True, save_period=-1, cache=False, device=None, workers=8, project=None, name=train3, exist_ok=False, pretrained=True, optimizer=auto, verbose=True, seed=0, deterministic=True, single_cls=False, rect=False, cos_lr=False, close_mosaic=10, resume=False, amp=True, fraction=1.0, profile=False, freeze=None, multi_scale=False, overlap_mask=True, mask_ratio=4, dropout=0.0, val=True, split=val, save_json=False, conf=None, iou=0.7, max_det=300, half=False, dnn=False, plots=True, source=None, vid_stride=1, stream_buffer=False, visualize=False, augment=False, agnostic_nms=False, classes=None, retina_masks=False, embed=None, show=False, save_frames=False, save_txt=False, save_conf=False, save_crop=False, show_labels=True, show_conf=True, show_boxes=True, line_width=None, format=torchscript, keras=False, optimize=False, int8=False, dynamic=False, simplify=True, opset=None, workspace=None, nms=False, lr0=0.01, lrf=0.01, momentum=0.937, weight_decay=0.0005, warmup_epochs=3.0, warmup_momentum=0.8, warmup_bias_lr=0.1, box=7.5, cls=0.5, dfl=1.5, pose=12.0, kobj=1.0, nbs=64, hsv_h=0.015, hsv_s=0.7, hsv_v=0.4, degrees=0.0, translate=0.1, scale=0.5, shear=0.0, perspective=0.0, flipud=0.0, fliplr=0.5, bgr=0.0, mosaic=1.0, mixup=0.0, cutmix=0.0, copy_paste=0.0, copy_paste_mode=flip, auto_augment=randaugment, erasing=0.4, cfg=None, tracker=botsort.yaml, save_dir=runs/detect/train3\n",
            "Downloading https://ultralytics.com/assets/Arial.ttf to '/root/.config/Ultralytics/Arial.ttf'...\n"
          ]
        },
        {
          "metadata": {
            "tags": null
          },
          "name": "stderr",
          "output_type": "stream",
          "text": [
            "100%|██████████| 755k/755k [00:00<00:00, 24.6MB/s]"
          ]
        },
        {
          "metadata": {
            "tags": null
          },
          "name": "stdout",
          "output_type": "stream",
          "text": [
            "Overriding model.yaml nc=80 with nc=1\n",
            "\n",
            "                   from  n    params  module                                       arguments                     \n",
            "  0                  -1  1      1856  ultralytics.nn.modules.conv.Conv             [3, 64, 3, 2]                 \n",
            "  1                  -1  1     73984  ultralytics.nn.modules.conv.Conv             [64, 128, 3, 2]               \n",
            "  2                  -1  3    279808  ultralytics.nn.modules.block.C2f             [128, 128, 3, True]           \n",
            "  3                  -1  1    295424  ultralytics.nn.modules.conv.Conv             [128, 256, 3, 2]              \n",
            "  4                  -1  6   2101248  ultralytics.nn.modules.block.C2f             [256, 256, 6, True]           \n",
            "  5                  -1  1   1180672  ultralytics.nn.modules.conv.Conv             [256, 512, 3, 2]              \n"
          ]
        },
        {
          "metadata": {
            "tags": null
          },
          "name": "stderr",
          "output_type": "stream",
          "text": [
            "\n"
          ]
        },
        {
          "metadata": {
            "tags": null
          },
          "name": "stdout",
          "output_type": "stream",
          "text": [
            "  6                  -1  6   8396800  ultralytics.nn.modules.block.C2f             [512, 512, 6, True]           \n",
            "  7                  -1  1   2360320  ultralytics.nn.modules.conv.Conv             [512, 512, 3, 2]              \n",
            "  8                  -1  3   4461568  ultralytics.nn.modules.block.C2f             [512, 512, 3, True]           \n",
            "  9                  -1  1    656896  ultralytics.nn.modules.block.SPPF            [512, 512, 5]                 \n",
            " 10                  -1  1         0  torch.nn.modules.upsampling.Upsample         [None, 2, 'nearest']          \n",
            " 11             [-1, 6]  1         0  ultralytics.nn.modules.conv.Concat           [1]                           \n",
            " 12                  -1  3   4723712  ultralytics.nn.modules.block.C2f             [1024, 512, 3]                \n",
            " 13                  -1  1         0  torch.nn.modules.upsampling.Upsample         [None, 2, 'nearest']          \n",
            " 14             [-1, 4]  1         0  ultralytics.nn.modules.conv.Concat           [1]                           \n",
            " 15                  -1  3   1247744  ultralytics.nn.modules.block.C2f             [768, 256, 3]                 \n",
            " 16                  -1  1    590336  ultralytics.nn.modules.conv.Conv             [256, 256, 3, 2]              \n",
            " 17            [-1, 12]  1         0  ultralytics.nn.modules.conv.Concat           [1]                           \n",
            " 18                  -1  3   4592640  ultralytics.nn.modules.block.C2f             [768, 512, 3]                 \n",
            " 19                  -1  1   2360320  ultralytics.nn.modules.conv.Conv             [512, 512, 3, 2]              \n",
            " 20             [-1, 9]  1         0  ultralytics.nn.modules.conv.Concat           [1]                           \n",
            " 21                  -1  3   4723712  ultralytics.nn.modules.block.C2f             [1024, 512, 3]                \n",
            " 22        [15, 18, 21]  1   5583571  ultralytics.nn.modules.head.Detect           [1, [256, 512, 512]]          \n",
            "Model summary: 209 layers, 43,630,611 parameters, 43,630,595 gradients, 165.4 GFLOPs\n",
            "\n",
            "Transferred 589/595 items from pretrained weights\n",
            "Freezing layer 'model.22.dfl.conv.weight'\n",
            "\u001b[34m\u001b[1mAMP: \u001b[0mrunning Automatic Mixed Precision (AMP) checks...\n",
            "Downloading https://github.com/ultralytics/assets/releases/download/v8.3.0/yolo11n.pt to 'yolo11n.pt'...\n"
          ]
        },
        {
          "metadata": {
            "tags": null
          },
          "name": "stderr",
          "output_type": "stream",
          "text": [
            "100%|██████████| 5.35M/5.35M [00:00<00:00, 112MB/s]\n"
          ]
        },
        {
          "metadata": {
            "tags": null
          },
          "name": "stdout",
          "output_type": "stream",
          "text": [
            "\u001b[34m\u001b[1mAMP: \u001b[0mchecks passed ✅\n",
            "\u001b[34m\u001b[1mtrain: \u001b[0mFast image access ✅ (ping: 3.2±5.6 ms, read: 0.1±0.1 MB/s, size: 68.6 KB)\n"
          ]
        },
        {
          "metadata": {
            "tags": null
          },
          "name": "stderr",
          "output_type": "stream",
          "text": [
            "\u001b[34m\u001b[1mtrain: \u001b[0mScanning /content/drive/MyDrive/Monkey.v11-noaugmentation.yolov8/train/labels... 2370 images, 383 backgrounds, 0 corrupt: 100%|██████████| 2370/2370 [15:26<00:00,  2.56it/s]\n"
          ]
        },
        {
          "metadata": {
            "tags": null
          },
          "name": "stdout",
          "output_type": "stream",
          "text": [
            "\u001b[34m\u001b[1mtrain: \u001b[0mNew cache created: /content/drive/MyDrive/Monkey.v11-noaugmentation.yolov8/train/labels.cache\n",
            "\u001b[34m\u001b[1malbumentations: \u001b[0mBlur(p=0.01, blur_limit=(3, 7)), MedianBlur(p=0.01, blur_limit=(3, 7)), ToGray(p=0.01, method='weighted_average', num_output_channels=3), CLAHE(p=0.01, clip_limit=(1.0, 4.0), tile_grid_size=(8, 8))\n",
            "\u001b[34m\u001b[1mval: \u001b[0mFast image access ✅ (ping: 0.7±0.1 ms, read: 0.1±0.1 MB/s, size: 57.0 KB)\n"
          ]
        },
        {
          "metadata": {
            "tags": null
          },
          "name": "stderr",
          "output_type": "stream",
          "text": [
            "\u001b[34m\u001b[1mval: \u001b[0mScanning /content/drive/MyDrive/Monkey.v11-noaugmentation.yolov8/valid/labels... 673 images, 122 backgrounds, 0 corrupt: 100%|██████████| 673/673 [04:04<00:00,  2.75it/s]\n"
          ]
        },
        {
          "metadata": {
            "tags": null
          },
          "name": "stdout",
          "output_type": "stream",
          "text": [
            "\u001b[34m\u001b[1mval: \u001b[0mNew cache created: /content/drive/MyDrive/Monkey.v11-noaugmentation.yolov8/valid/labels.cache\n",
            "Plotting labels to runs/detect/train3/labels.jpg... \n",
            "\u001b[34m\u001b[1moptimizer:\u001b[0m 'optimizer=auto' found, ignoring 'lr0=0.01' and 'momentum=0.937' and determining best 'optimizer', 'lr0' and 'momentum' automatically... \n",
            "\u001b[34m\u001b[1moptimizer:\u001b[0m AdamW(lr=0.002, momentum=0.9) with parameter groups 97 weight(decay=0.0), 104 weight(decay=0.0005), 103 bias(decay=0.0)\n",
            "Image sizes 640 train, 640 val\n",
            "Using 2 dataloader workers\n",
            "Logging results to \u001b[1mruns/detect/train3\u001b[0m\n",
            "Starting training for 50 epochs...\n",
            "\n",
            "      Epoch    GPU_mem   box_loss   cls_loss   dfl_loss  Instances       Size\n"
          ]
        },
        {
          "metadata": {
            "tags": null
          },
          "name": "stderr",
          "output_type": "stream",
          "text": [
            "       1/50      9.27G      1.431       2.06      1.797          5        640: 100%|██████████| 149/149 [02:02<00:00,  1.22it/s]\n",
            "                 Class     Images  Instances      Box(P          R      mAP50  mAP50-95): 100%|██████████| 22/22 [00:15<00:00,  1.44it/s]\n"
          ]
        },
        {
          "metadata": {
            "tags": null
          },
          "name": "stdout",
          "output_type": "stream",
          "text": [
            "                   all        673        707     0.0109      0.157     0.0048    0.00127\n",
            "\n",
            "      Epoch    GPU_mem   box_loss   cls_loss   dfl_loss  Instances       Size\n"
          ]
        },
        {
          "metadata": {
            "tags": null
          },
          "name": "stderr",
          "output_type": "stream",
          "text": [
            "       2/50      9.57G      1.608      2.118      1.926          6        640: 100%|██████████| 149/149 [01:59<00:00,  1.25it/s]\n",
            "                 Class     Images  Instances      Box(P          R      mAP50  mAP50-95): 100%|██████████| 22/22 [00:14<00:00,  1.55it/s]\n"
          ]
        },
        {
          "metadata": {
            "tags": null
          },
          "name": "stdout",
          "output_type": "stream",
          "text": [
            "                   all        673        707     0.0138      0.267    0.00801    0.00233\n",
            "\n",
            "      Epoch    GPU_mem   box_loss   cls_loss   dfl_loss  Instances       Size\n"
          ]
        },
        {
          "metadata": {
            "tags": null
          },
          "name": "stderr",
          "output_type": "stream",
          "text": [
            "       3/50      9.57G      1.541      2.042      1.859          8        640: 100%|██████████| 149/149 [01:58<00:00,  1.26it/s]\n",
            "                 Class     Images  Instances      Box(P          R      mAP50  mAP50-95): 100%|██████████| 22/22 [00:14<00:00,  1.56it/s]\n"
          ]
        },
        {
          "metadata": {
            "tags": null
          },
          "name": "stdout",
          "output_type": "stream",
          "text": [
            "                   all        673        707      0.145      0.195     0.0965     0.0279\n",
            "\n",
            "      Epoch    GPU_mem   box_loss   cls_loss   dfl_loss  Instances       Size\n"
          ]
        },
        {
          "metadata": {
            "tags": null
          },
          "name": "stderr",
          "output_type": "stream",
          "text": [
            "       4/50      9.71G      1.481      1.919      1.813          8        640: 100%|██████████| 149/149 [01:58<00:00,  1.26it/s]\n",
            "                 Class     Images  Instances      Box(P          R      mAP50  mAP50-95): 100%|██████████| 22/22 [00:13<00:00,  1.58it/s]"
          ]
        },
        {
          "metadata": {
            "tags": null
          },
          "name": "stdout",
          "output_type": "stream",
          "text": [
            "                   all        673        707      0.313      0.368      0.211     0.0905\n"
          ]
        },
        {
          "metadata": {
            "tags": null
          },
          "name": "stderr",
          "output_type": "stream",
          "text": [
            "\n"
          ]
        },
        {
          "metadata": {
            "tags": null
          },
          "name": "stdout",
          "output_type": "stream",
          "text": [
            "\n",
            "      Epoch    GPU_mem   box_loss   cls_loss   dfl_loss  Instances       Size\n"
          ]
        },
        {
          "metadata": {
            "tags": null
          },
          "name": "stderr",
          "output_type": "stream",
          "text": [
            "       5/50      9.82G      1.404      1.833      1.754          7        640: 100%|██████████| 149/149 [01:58<00:00,  1.26it/s]\n",
            "                 Class     Images  Instances      Box(P          R      mAP50  mAP50-95): 100%|██████████| 22/22 [00:13<00:00,  1.60it/s]"
          ]
        },
        {
          "metadata": {
            "tags": null
          },
          "name": "stdout",
          "output_type": "stream",
          "text": [
            "                   all        673        707      0.258      0.179      0.118     0.0443\n"
          ]
        },
        {
          "metadata": {
            "tags": null
          },
          "name": "stderr",
          "output_type": "stream",
          "text": [
            "\n"
          ]
        },
        {
          "metadata": {
            "tags": null
          },
          "name": "stdout",
          "output_type": "stream",
          "text": [
            "\n",
            "      Epoch    GPU_mem   box_loss   cls_loss   dfl_loss  Instances       Size\n"
          ]
        },
        {
          "metadata": {
            "tags": null
          },
          "name": "stderr",
          "output_type": "stream",
          "text": [
            "       6/50      9.58G      1.408      1.787      1.745          6        640: 100%|██████████| 149/149 [01:58<00:00,  1.26it/s]\n",
            "                 Class     Images  Instances      Box(P          R      mAP50  mAP50-95): 100%|██████████| 22/22 [00:14<00:00,  1.57it/s]"
          ]
        },
        {
          "metadata": {
            "tags": null
          },
          "name": "stdout",
          "output_type": "stream",
          "text": [
            "                   all        673        707      0.522      0.503      0.495      0.217\n"
          ]
        },
        {
          "metadata": {
            "tags": null
          },
          "name": "stderr",
          "output_type": "stream",
          "text": [
            "\n"
          ]
        },
        {
          "metadata": {
            "tags": null
          },
          "name": "stdout",
          "output_type": "stream",
          "text": [
            "\n",
            "      Epoch    GPU_mem   box_loss   cls_loss   dfl_loss  Instances       Size\n"
          ]
        },
        {
          "output_type": "stream",
          "name": "stderr",
          "text": [
            "       7/50      9.73G      1.364       1.72      1.702          6        640: 100%|██████████| 149/149 [01:58<00:00,  1.26it/s]\n",
            "                 Class     Images  Instances      Box(P          R      mAP50  mAP50-95): 100%|██████████| 22/22 [00:14<00:00,  1.57it/s]"
          ]
        },
        {
          "output_type": "stream",
          "name": "stdout",
          "text": [
            "                   all        673        707      0.625      0.579      0.618      0.295\n"
          ]
        },
        {
          "output_type": "stream",
          "name": "stderr",
          "text": [
            "\n"
          ]
        },
        {
          "output_type": "stream",
          "name": "stdout",
          "text": [
            "\n",
            "      Epoch    GPU_mem   box_loss   cls_loss   dfl_loss  Instances       Size\n"
          ]
        },
        {
          "output_type": "stream",
          "name": "stderr",
          "text": [
            "       8/50      9.82G      1.309      1.689      1.671          5        640: 100%|██████████| 149/149 [01:58<00:00,  1.26it/s]\n",
            "                 Class     Images  Instances      Box(P          R      mAP50  mAP50-95): 100%|██████████| 22/22 [00:13<00:00,  1.59it/s]"
          ]
        },
        {
          "output_type": "stream",
          "name": "stdout",
          "text": [
            "                   all        673        707       0.65      0.577      0.604      0.298\n"
          ]
        },
        {
          "output_type": "stream",
          "name": "stderr",
          "text": [
            "\n"
          ]
        },
        {
          "output_type": "stream",
          "name": "stdout",
          "text": [
            "\n",
            "      Epoch    GPU_mem   box_loss   cls_loss   dfl_loss  Instances       Size\n"
          ]
        },
        {
          "output_type": "stream",
          "name": "stderr",
          "text": [
            "       9/50      9.81G      1.312      1.616      1.663          9        640: 100%|██████████| 149/149 [01:58<00:00,  1.26it/s]\n",
            "                 Class     Images  Instances      Box(P          R      mAP50  mAP50-95): 100%|██████████| 22/22 [00:13<00:00,  1.58it/s]"
          ]
        },
        {
          "output_type": "stream",
          "name": "stdout",
          "text": [
            "                   all        673        707      0.672      0.583      0.627      0.307\n"
          ]
        },
        {
          "output_type": "stream",
          "name": "stderr",
          "text": [
            "\n"
          ]
        },
        {
          "output_type": "stream",
          "name": "stdout",
          "text": [
            "\n",
            "      Epoch    GPU_mem   box_loss   cls_loss   dfl_loss  Instances       Size\n"
          ]
        },
        {
          "output_type": "stream",
          "name": "stderr",
          "text": [
            "      10/50      9.65G      1.248      1.527      1.617          8        640: 100%|██████████| 149/149 [01:57<00:00,  1.26it/s]\n",
            "                 Class     Images  Instances      Box(P          R      mAP50  mAP50-95): 100%|██████████| 22/22 [00:13<00:00,  1.57it/s]"
          ]
        },
        {
          "output_type": "stream",
          "name": "stdout",
          "text": [
            "                   all        673        707      0.653       0.59      0.595      0.299\n"
          ]
        },
        {
          "output_type": "stream",
          "name": "stderr",
          "text": [
            "\n"
          ]
        },
        {
          "output_type": "stream",
          "name": "stdout",
          "text": [
            "\n",
            "      Epoch    GPU_mem   box_loss   cls_loss   dfl_loss  Instances       Size\n"
          ]
        },
        {
          "output_type": "stream",
          "name": "stderr",
          "text": [
            "      11/50      9.73G      1.235      1.488      1.602          2        640: 100%|██████████| 149/149 [01:58<00:00,  1.26it/s]\n",
            "                 Class     Images  Instances      Box(P          R      mAP50  mAP50-95): 100%|██████████| 22/22 [00:13<00:00,  1.58it/s]"
          ]
        },
        {
          "output_type": "stream",
          "name": "stdout",
          "text": [
            "                   all        673        707       0.68      0.547      0.636      0.317\n"
          ]
        },
        {
          "output_type": "stream",
          "name": "stderr",
          "text": [
            "\n"
          ]
        },
        {
          "output_type": "stream",
          "name": "stdout",
          "text": [
            "\n",
            "      Epoch    GPU_mem   box_loss   cls_loss   dfl_loss  Instances       Size\n"
          ]
        },
        {
          "output_type": "stream",
          "name": "stderr",
          "text": [
            "      12/50      9.81G        1.2      1.484      1.591          5        640: 100%|██████████| 149/149 [01:57<00:00,  1.26it/s]\n",
            "                 Class     Images  Instances      Box(P          R      mAP50  mAP50-95): 100%|██████████| 22/22 [00:13<00:00,  1.59it/s]"
          ]
        },
        {
          "output_type": "stream",
          "name": "stdout",
          "text": [
            "                   all        673        707      0.696      0.622      0.682      0.366\n"
          ]
        },
        {
          "output_type": "stream",
          "name": "stderr",
          "text": [
            "\n"
          ]
        },
        {
          "output_type": "stream",
          "name": "stdout",
          "text": [
            "\n",
            "      Epoch    GPU_mem   box_loss   cls_loss   dfl_loss  Instances       Size\n"
          ]
        },
        {
          "output_type": "stream",
          "name": "stderr",
          "text": [
            "      13/50       9.8G      1.204      1.489      1.589          6        640: 100%|██████████| 149/149 [01:57<00:00,  1.26it/s]\n",
            "                 Class     Images  Instances      Box(P          R      mAP50  mAP50-95): 100%|██████████| 22/22 [00:14<00:00,  1.57it/s]"
          ]
        },
        {
          "output_type": "stream",
          "name": "stdout",
          "text": [
            "                   all        673        707      0.779      0.683      0.749        0.4\n"
          ]
        },
        {
          "output_type": "stream",
          "name": "stderr",
          "text": [
            "\n"
          ]
        },
        {
          "output_type": "stream",
          "name": "stdout",
          "text": [
            "\n",
            "      Epoch    GPU_mem   box_loss   cls_loss   dfl_loss  Instances       Size\n"
          ]
        },
        {
          "output_type": "stream",
          "name": "stderr",
          "text": [
            "      14/50      9.59G      1.165       1.43      1.565          1        640: 100%|██████████| 149/149 [01:57<00:00,  1.27it/s]\n",
            "                 Class     Images  Instances      Box(P          R      mAP50  mAP50-95): 100%|██████████| 22/22 [00:14<00:00,  1.57it/s]"
          ]
        },
        {
          "output_type": "stream",
          "name": "stdout",
          "text": [
            "                   all        673        707      0.683      0.598      0.661      0.347\n"
          ]
        },
        {
          "output_type": "stream",
          "name": "stderr",
          "text": [
            "\n"
          ]
        },
        {
          "output_type": "stream",
          "name": "stdout",
          "text": [
            "\n",
            "      Epoch    GPU_mem   box_loss   cls_loss   dfl_loss  Instances       Size\n"
          ]
        },
        {
          "output_type": "stream",
          "name": "stderr",
          "text": [
            "      15/50      9.72G      1.167      1.391      1.569          6        640: 100%|██████████| 149/149 [01:57<00:00,  1.27it/s]\n",
            "                 Class     Images  Instances      Box(P          R      mAP50  mAP50-95): 100%|██████████| 22/22 [00:13<00:00,  1.58it/s]"
          ]
        },
        {
          "output_type": "stream",
          "name": "stdout",
          "text": [
            "                   all        673        707      0.764      0.574      0.677      0.347\n"
          ]
        },
        {
          "output_type": "stream",
          "name": "stderr",
          "text": [
            "\n"
          ]
        },
        {
          "output_type": "stream",
          "name": "stdout",
          "text": [
            "\n",
            "      Epoch    GPU_mem   box_loss   cls_loss   dfl_loss  Instances       Size\n"
          ]
        },
        {
          "output_type": "stream",
          "name": "stderr",
          "text": [
            "      16/50      9.71G      1.147      1.373      1.546          4        640: 100%|██████████| 149/149 [01:57<00:00,  1.26it/s]\n",
            "                 Class     Images  Instances      Box(P          R      mAP50  mAP50-95): 100%|██████████| 22/22 [00:13<00:00,  1.59it/s]"
          ]
        },
        {
          "output_type": "stream",
          "name": "stdout",
          "text": [
            "                   all        673        707      0.712      0.675      0.717      0.392\n"
          ]
        },
        {
          "output_type": "stream",
          "name": "stderr",
          "text": [
            "\n"
          ]
        },
        {
          "output_type": "stream",
          "name": "stdout",
          "text": [
            "\n",
            "      Epoch    GPU_mem   box_loss   cls_loss   dfl_loss  Instances       Size\n"
          ]
        },
        {
          "output_type": "stream",
          "name": "stderr",
          "text": [
            "      17/50       9.8G      1.163      1.399      1.548          1        640: 100%|██████████| 149/149 [01:57<00:00,  1.26it/s]\n",
            "                 Class     Images  Instances      Box(P          R      mAP50  mAP50-95): 100%|██████████| 22/22 [00:13<00:00,  1.57it/s]"
          ]
        },
        {
          "output_type": "stream",
          "name": "stdout",
          "text": [
            "                   all        673        707      0.773      0.703      0.764      0.427\n"
          ]
        },
        {
          "output_type": "stream",
          "name": "stderr",
          "text": [
            "\n"
          ]
        },
        {
          "output_type": "stream",
          "name": "stdout",
          "text": [
            "\n",
            "      Epoch    GPU_mem   box_loss   cls_loss   dfl_loss  Instances       Size\n"
          ]
        },
        {
          "output_type": "stream",
          "name": "stderr",
          "text": [
            "      18/50      9.94G      1.148      1.356      1.554          4        640: 100%|██████████| 149/149 [01:57<00:00,  1.27it/s]\n",
            "                 Class     Images  Instances      Box(P          R      mAP50  mAP50-95): 100%|██████████| 22/22 [00:14<00:00,  1.56it/s]"
          ]
        },
        {
          "output_type": "stream",
          "name": "stdout",
          "text": [
            "                   all        673        707      0.735      0.652      0.723      0.398\n"
          ]
        },
        {
          "output_type": "stream",
          "name": "stderr",
          "text": [
            "\n"
          ]
        },
        {
          "output_type": "stream",
          "name": "stdout",
          "text": [
            "\n",
            "      Epoch    GPU_mem   box_loss   cls_loss   dfl_loss  Instances       Size\n"
          ]
        },
        {
          "output_type": "stream",
          "name": "stderr",
          "text": [
            "      19/50      9.82G      1.129      1.339      1.535          5        640: 100%|██████████| 149/149 [01:58<00:00,  1.26it/s]\n",
            "                 Class     Images  Instances      Box(P          R      mAP50  mAP50-95): 100%|██████████| 22/22 [00:13<00:00,  1.58it/s]"
          ]
        },
        {
          "output_type": "stream",
          "name": "stdout",
          "text": [
            "                   all        673        707      0.757      0.685      0.756      0.414\n"
          ]
        },
        {
          "output_type": "stream",
          "name": "stderr",
          "text": [
            "\n"
          ]
        },
        {
          "output_type": "stream",
          "name": "stdout",
          "text": [
            "\n",
            "      Epoch    GPU_mem   box_loss   cls_loss   dfl_loss  Instances       Size\n"
          ]
        },
        {
          "output_type": "stream",
          "name": "stderr",
          "text": [
            "      20/50      9.81G      1.105      1.277      1.518          3        640: 100%|██████████| 149/149 [01:58<00:00,  1.26it/s]\n",
            "                 Class     Images  Instances      Box(P          R      mAP50  mAP50-95): 100%|██████████| 22/22 [00:14<00:00,  1.56it/s]"
          ]
        },
        {
          "output_type": "stream",
          "name": "stdout",
          "text": [
            "                   all        673        707       0.72      0.641      0.703        0.4\n"
          ]
        },
        {
          "output_type": "stream",
          "name": "stderr",
          "text": [
            "\n"
          ]
        },
        {
          "output_type": "stream",
          "name": "stdout",
          "text": [
            "\n",
            "      Epoch    GPU_mem   box_loss   cls_loss   dfl_loss  Instances       Size\n"
          ]
        },
        {
          "output_type": "stream",
          "name": "stderr",
          "text": [
            "      21/50       9.8G      1.081      1.238      1.502          2        640: 100%|██████████| 149/149 [01:57<00:00,  1.27it/s]\n",
            "                 Class     Images  Instances      Box(P          R      mAP50  mAP50-95): 100%|██████████| 22/22 [00:13<00:00,  1.59it/s]"
          ]
        },
        {
          "output_type": "stream",
          "name": "stdout",
          "text": [
            "                   all        673        707      0.785      0.645      0.754      0.431\n"
          ]
        },
        {
          "output_type": "stream",
          "name": "stderr",
          "text": [
            "\n"
          ]
        },
        {
          "output_type": "stream",
          "name": "stdout",
          "text": [
            "\n",
            "      Epoch    GPU_mem   box_loss   cls_loss   dfl_loss  Instances       Size\n"
          ]
        },
        {
          "output_type": "stream",
          "name": "stderr",
          "text": [
            "      22/50      9.54G      1.111      1.257      1.516          5        640: 100%|██████████| 149/149 [01:58<00:00,  1.26it/s]\n",
            "                 Class     Images  Instances      Box(P          R      mAP50  mAP50-95): 100%|██████████| 22/22 [00:13<00:00,  1.57it/s]"
          ]
        },
        {
          "output_type": "stream",
          "name": "stdout",
          "text": [
            "                   all        673        707      0.774      0.694       0.78      0.463\n"
          ]
        },
        {
          "output_type": "stream",
          "name": "stderr",
          "text": [
            "\n"
          ]
        },
        {
          "output_type": "stream",
          "name": "stdout",
          "text": [
            "\n",
            "      Epoch    GPU_mem   box_loss   cls_loss   dfl_loss  Instances       Size\n"
          ]
        },
        {
          "output_type": "stream",
          "name": "stderr",
          "text": [
            "      23/50      9.82G      1.079      1.231      1.497          5        640: 100%|██████████| 149/149 [01:57<00:00,  1.26it/s]\n",
            "                 Class     Images  Instances      Box(P          R      mAP50  mAP50-95): 100%|██████████| 22/22 [00:13<00:00,  1.59it/s]"
          ]
        },
        {
          "output_type": "stream",
          "name": "stdout",
          "text": [
            "                   all        673        707      0.743      0.727      0.786      0.458\n"
          ]
        },
        {
          "output_type": "stream",
          "name": "stderr",
          "text": [
            "\n"
          ]
        },
        {
          "output_type": "stream",
          "name": "stdout",
          "text": [
            "\n",
            "      Epoch    GPU_mem   box_loss   cls_loss   dfl_loss  Instances       Size\n"
          ]
        },
        {
          "output_type": "stream",
          "name": "stderr",
          "text": [
            "      24/50      9.71G      1.077      1.222      1.502          7        640: 100%|██████████| 149/149 [01:57<00:00,  1.26it/s]\n",
            "                 Class     Images  Instances      Box(P          R      mAP50  mAP50-95): 100%|██████████| 22/22 [00:13<00:00,  1.59it/s]"
          ]
        },
        {
          "output_type": "stream",
          "name": "stdout",
          "text": [
            "                   all        673        707      0.818        0.7      0.798       0.48\n"
          ]
        },
        {
          "output_type": "stream",
          "name": "stderr",
          "text": [
            "\n"
          ]
        },
        {
          "output_type": "stream",
          "name": "stdout",
          "text": [
            "\n",
            "      Epoch    GPU_mem   box_loss   cls_loss   dfl_loss  Instances       Size\n"
          ]
        },
        {
          "output_type": "stream",
          "name": "stderr",
          "text": [
            "      25/50      9.81G      1.054       1.18      1.471          9        640: 100%|██████████| 149/149 [01:58<00:00,  1.26it/s]\n",
            "                 Class     Images  Instances      Box(P          R      mAP50  mAP50-95): 100%|██████████| 22/22 [00:13<00:00,  1.59it/s]"
          ]
        },
        {
          "output_type": "stream",
          "name": "stdout",
          "text": [
            "                   all        673        707      0.814      0.723      0.817      0.485\n"
          ]
        },
        {
          "output_type": "stream",
          "name": "stderr",
          "text": [
            "\n"
          ]
        },
        {
          "output_type": "stream",
          "name": "stdout",
          "text": [
            "\n",
            "      Epoch    GPU_mem   box_loss   cls_loss   dfl_loss  Instances       Size\n"
          ]
        },
        {
          "output_type": "stream",
          "name": "stderr",
          "text": [
            "      26/50      9.83G      1.039      1.176      1.475          2        640: 100%|██████████| 149/149 [01:57<00:00,  1.26it/s]\n",
            "                 Class     Images  Instances      Box(P          R      mAP50  mAP50-95): 100%|██████████| 22/22 [00:13<00:00,  1.58it/s]"
          ]
        },
        {
          "output_type": "stream",
          "name": "stdout",
          "text": [
            "                   all        673        707      0.816      0.738      0.833      0.517\n"
          ]
        },
        {
          "output_type": "stream",
          "name": "stderr",
          "text": [
            "\n"
          ]
        },
        {
          "output_type": "stream",
          "name": "stdout",
          "text": [
            "\n",
            "      Epoch    GPU_mem   box_loss   cls_loss   dfl_loss  Instances       Size\n"
          ]
        },
        {
          "output_type": "stream",
          "name": "stderr",
          "text": [
            "      27/50      9.83G       1.04      1.166      1.465          6        640: 100%|██████████| 149/149 [01:57<00:00,  1.26it/s]\n",
            "                 Class     Images  Instances      Box(P          R      mAP50  mAP50-95): 100%|██████████| 22/22 [00:13<00:00,  1.58it/s]"
          ]
        },
        {
          "output_type": "stream",
          "name": "stdout",
          "text": [
            "                   all        673        707      0.837      0.711      0.829      0.516\n"
          ]
        },
        {
          "output_type": "stream",
          "name": "stderr",
          "text": [
            "\n"
          ]
        },
        {
          "output_type": "stream",
          "name": "stdout",
          "text": [
            "\n",
            "      Epoch    GPU_mem   box_loss   cls_loss   dfl_loss  Instances       Size\n"
          ]
        },
        {
          "output_type": "stream",
          "name": "stderr",
          "text": [
            "      28/50      9.71G      1.038       1.11      1.467          2        640: 100%|██████████| 149/149 [01:57<00:00,  1.26it/s]\n",
            "                 Class     Images  Instances      Box(P          R      mAP50  mAP50-95): 100%|██████████| 22/22 [00:13<00:00,  1.59it/s]"
          ]
        },
        {
          "output_type": "stream",
          "name": "stdout",
          "text": [
            "                   all        673        707      0.836      0.728      0.836      0.522\n"
          ]
        },
        {
          "output_type": "stream",
          "name": "stderr",
          "text": [
            "\n"
          ]
        },
        {
          "output_type": "stream",
          "name": "stdout",
          "text": [
            "\n",
            "      Epoch    GPU_mem   box_loss   cls_loss   dfl_loss  Instances       Size\n"
          ]
        },
        {
          "output_type": "stream",
          "name": "stderr",
          "text": [
            "      29/50       9.8G      1.019      1.118      1.445          3        640: 100%|██████████| 149/149 [01:58<00:00,  1.26it/s]\n",
            "                 Class     Images  Instances      Box(P          R      mAP50  mAP50-95): 100%|██████████| 22/22 [00:13<00:00,  1.60it/s]"
          ]
        },
        {
          "output_type": "stream",
          "name": "stdout",
          "text": [
            "                   all        673        707      0.813      0.726       0.83      0.524\n"
          ]
        },
        {
          "output_type": "stream",
          "name": "stderr",
          "text": [
            "\n"
          ]
        },
        {
          "output_type": "stream",
          "name": "stdout",
          "text": [
            "\n",
            "      Epoch    GPU_mem   box_loss   cls_loss   dfl_loss  Instances       Size\n"
          ]
        },
        {
          "output_type": "stream",
          "name": "stderr",
          "text": [
            "      30/50      9.69G     0.9932      1.066      1.429          6        640: 100%|██████████| 149/149 [01:57<00:00,  1.26it/s]\n",
            "                 Class     Images  Instances      Box(P          R      mAP50  mAP50-95): 100%|██████████| 22/22 [00:13<00:00,  1.58it/s]"
          ]
        },
        {
          "output_type": "stream",
          "name": "stdout",
          "text": [
            "                   all        673        707       0.86      0.755      0.866      0.552\n"
          ]
        },
        {
          "output_type": "stream",
          "name": "stderr",
          "text": [
            "\n"
          ]
        },
        {
          "output_type": "stream",
          "name": "stdout",
          "text": [
            "\n",
            "      Epoch    GPU_mem   box_loss   cls_loss   dfl_loss  Instances       Size\n"
          ]
        },
        {
          "output_type": "stream",
          "name": "stderr",
          "text": [
            "      31/50      9.82G     0.9886      1.072      1.419          9        640: 100%|██████████| 149/149 [01:57<00:00,  1.27it/s]\n",
            "                 Class     Images  Instances      Box(P          R      mAP50  mAP50-95): 100%|██████████| 22/22 [00:13<00:00,  1.58it/s]"
          ]
        },
        {
          "output_type": "stream",
          "name": "stdout",
          "text": [
            "                   all        673        707      0.823      0.755      0.842      0.535\n"
          ]
        },
        {
          "output_type": "stream",
          "name": "stderr",
          "text": [
            "\n"
          ]
        },
        {
          "output_type": "stream",
          "name": "stdout",
          "text": [
            "\n",
            "      Epoch    GPU_mem   box_loss   cls_loss   dfl_loss  Instances       Size\n"
          ]
        },
        {
          "output_type": "stream",
          "name": "stderr",
          "text": [
            "      32/50      9.81G      0.982      1.057      1.428          2        640: 100%|██████████| 149/149 [01:57<00:00,  1.26it/s]\n",
            "                 Class     Images  Instances      Box(P          R      mAP50  mAP50-95): 100%|██████████| 22/22 [00:13<00:00,  1.59it/s]"
          ]
        },
        {
          "output_type": "stream",
          "name": "stdout",
          "text": [
            "                   all        673        707      0.837      0.782      0.854      0.547\n"
          ]
        },
        {
          "output_type": "stream",
          "name": "stderr",
          "text": [
            "\n"
          ]
        },
        {
          "output_type": "stream",
          "name": "stdout",
          "text": [
            "\n",
            "      Epoch    GPU_mem   box_loss   cls_loss   dfl_loss  Instances       Size\n"
          ]
        },
        {
          "output_type": "stream",
          "name": "stderr",
          "text": [
            "      33/50       9.8G     0.9947      1.058      1.423          2        640: 100%|██████████| 149/149 [01:58<00:00,  1.26it/s]\n",
            "                 Class     Images  Instances      Box(P          R      mAP50  mAP50-95): 100%|██████████| 22/22 [00:13<00:00,  1.58it/s]"
          ]
        },
        {
          "output_type": "stream",
          "name": "stdout",
          "text": [
            "                   all        673        707      0.832      0.802      0.868      0.557\n"
          ]
        },
        {
          "output_type": "stream",
          "name": "stderr",
          "text": [
            "\n"
          ]
        },
        {
          "output_type": "stream",
          "name": "stdout",
          "text": [
            "\n",
            "      Epoch    GPU_mem   box_loss   cls_loss   dfl_loss  Instances       Size\n"
          ]
        },
        {
          "output_type": "stream",
          "name": "stderr",
          "text": [
            "      34/50      9.65G     0.9459      1.013      1.391          4        640: 100%|██████████| 149/149 [01:58<00:00,  1.26it/s]\n",
            "                 Class     Images  Instances      Box(P          R      mAP50  mAP50-95): 100%|██████████| 22/22 [00:14<00:00,  1.57it/s]"
          ]
        },
        {
          "output_type": "stream",
          "name": "stdout",
          "text": [
            "                   all        673        707      0.839      0.787      0.863      0.538\n"
          ]
        },
        {
          "output_type": "stream",
          "name": "stderr",
          "text": [
            "\n"
          ]
        },
        {
          "output_type": "stream",
          "name": "stdout",
          "text": [
            "\n",
            "      Epoch    GPU_mem   box_loss   cls_loss   dfl_loss  Instances       Size\n"
          ]
        },
        {
          "output_type": "stream",
          "name": "stderr",
          "text": [
            "      35/50      9.73G     0.9681      1.025       1.41          3        640: 100%|██████████| 149/149 [01:58<00:00,  1.25it/s]\n",
            "                 Class     Images  Instances      Box(P          R      mAP50  mAP50-95): 100%|██████████| 22/22 [00:13<00:00,  1.58it/s]"
          ]
        },
        {
          "output_type": "stream",
          "name": "stdout",
          "text": [
            "                   all        673        707      0.843      0.781      0.856       0.57\n"
          ]
        },
        {
          "output_type": "stream",
          "name": "stderr",
          "text": [
            "\n"
          ]
        },
        {
          "output_type": "stream",
          "name": "stdout",
          "text": [
            "\n",
            "      Epoch    GPU_mem   box_loss   cls_loss   dfl_loss  Instances       Size\n"
          ]
        },
        {
          "output_type": "stream",
          "name": "stderr",
          "text": [
            "      36/50      9.71G     0.9429      1.008      1.392          7        640: 100%|██████████| 149/149 [01:57<00:00,  1.27it/s]\n",
            "                 Class     Images  Instances      Box(P          R      mAP50  mAP50-95): 100%|██████████| 22/22 [00:13<00:00,  1.59it/s]"
          ]
        },
        {
          "output_type": "stream",
          "name": "stdout",
          "text": [
            "                   all        673        707      0.864      0.793      0.865      0.565\n"
          ]
        },
        {
          "output_type": "stream",
          "name": "stderr",
          "text": [
            "\n"
          ]
        },
        {
          "output_type": "stream",
          "name": "stdout",
          "text": [
            "\n",
            "      Epoch    GPU_mem   box_loss   cls_loss   dfl_loss  Instances       Size\n"
          ]
        },
        {
          "output_type": "stream",
          "name": "stderr",
          "text": [
            "      37/50       9.7G      0.953      1.006      1.402          6        640: 100%|██████████| 149/149 [01:58<00:00,  1.26it/s]\n",
            "                 Class     Images  Instances      Box(P          R      mAP50  mAP50-95): 100%|██████████| 22/22 [00:13<00:00,  1.58it/s]"
          ]
        },
        {
          "output_type": "stream",
          "name": "stdout",
          "text": [
            "                   all        673        707      0.846      0.774      0.868      0.562\n"
          ]
        },
        {
          "output_type": "stream",
          "name": "stderr",
          "text": [
            "\n"
          ]
        },
        {
          "output_type": "stream",
          "name": "stdout",
          "text": [
            "\n",
            "      Epoch    GPU_mem   box_loss   cls_loss   dfl_loss  Instances       Size\n"
          ]
        },
        {
          "output_type": "stream",
          "name": "stderr",
          "text": [
            "      38/50      9.58G       0.92     0.9785      1.374          1        640: 100%|██████████| 149/149 [01:57<00:00,  1.26it/s]\n",
            "                 Class     Images  Instances      Box(P          R      mAP50  mAP50-95): 100%|██████████| 22/22 [00:13<00:00,  1.59it/s]"
          ]
        },
        {
          "output_type": "stream",
          "name": "stdout",
          "text": [
            "                   all        673        707      0.872      0.789      0.866       0.57\n"
          ]
        },
        {
          "output_type": "stream",
          "name": "stderr",
          "text": [
            "\n"
          ]
        },
        {
          "output_type": "stream",
          "name": "stdout",
          "text": [
            "\n",
            "      Epoch    GPU_mem   box_loss   cls_loss   dfl_loss  Instances       Size\n"
          ]
        },
        {
          "output_type": "stream",
          "name": "stderr",
          "text": [
            "      39/50      9.72G     0.9125     0.9449      1.364          3        640: 100%|██████████| 149/149 [01:57<00:00,  1.26it/s]\n",
            "                 Class     Images  Instances      Box(P          R      mAP50  mAP50-95): 100%|██████████| 22/22 [00:13<00:00,  1.58it/s]"
          ]
        },
        {
          "output_type": "stream",
          "name": "stdout",
          "text": [
            "                   all        673        707      0.826      0.815      0.874      0.586\n"
          ]
        },
        {
          "output_type": "stream",
          "name": "stderr",
          "text": [
            "\n"
          ]
        },
        {
          "output_type": "stream",
          "name": "stdout",
          "text": [
            "\n",
            "      Epoch    GPU_mem   box_loss   cls_loss   dfl_loss  Instances       Size\n"
          ]
        },
        {
          "output_type": "stream",
          "name": "stderr",
          "text": [
            "      40/50      9.81G     0.9096     0.9126      1.363          7        640: 100%|██████████| 149/149 [01:57<00:00,  1.26it/s]\n",
            "                 Class     Images  Instances      Box(P          R      mAP50  mAP50-95): 100%|██████████| 22/22 [00:13<00:00,  1.59it/s]"
          ]
        },
        {
          "output_type": "stream",
          "name": "stdout",
          "text": [
            "                   all        673        707       0.87       0.81      0.872      0.589\n"
          ]
        },
        {
          "output_type": "stream",
          "name": "stderr",
          "text": [
            "\n"
          ]
        },
        {
          "output_type": "stream",
          "name": "stdout",
          "text": [
            "Closing dataloader mosaic\n",
            "\u001b[34m\u001b[1malbumentations: \u001b[0mBlur(p=0.01, blur_limit=(3, 7)), MedianBlur(p=0.01, blur_limit=(3, 7)), ToGray(p=0.01, method='weighted_average', num_output_channels=3), CLAHE(p=0.01, clip_limit=(1.0, 4.0), tile_grid_size=(8, 8))\n",
            "\n",
            "      Epoch    GPU_mem   box_loss   cls_loss   dfl_loss  Instances       Size\n"
          ]
        },
        {
          "output_type": "stream",
          "name": "stderr",
          "text": [
            "      41/50       9.7G     0.9929     0.8811      1.485          1        640: 100%|██████████| 149/149 [01:58<00:00,  1.26it/s]\n",
            "                 Class     Images  Instances      Box(P          R      mAP50  mAP50-95): 100%|██████████| 22/22 [00:14<00:00,  1.57it/s]"
          ]
        },
        {
          "output_type": "stream",
          "name": "stdout",
          "text": [
            "                   all        673        707      0.871      0.795      0.877      0.582\n"
          ]
        },
        {
          "output_type": "stream",
          "name": "stderr",
          "text": [
            "\n"
          ]
        },
        {
          "output_type": "stream",
          "name": "stdout",
          "text": [
            "\n",
            "      Epoch    GPU_mem   box_loss   cls_loss   dfl_loss  Instances       Size\n"
          ]
        },
        {
          "output_type": "stream",
          "name": "stderr",
          "text": [
            "      42/50       9.6G     0.9651      0.869      1.451          0        640: 100%|██████████| 149/149 [01:57<00:00,  1.27it/s]\n",
            "                 Class     Images  Instances      Box(P          R      mAP50  mAP50-95): 100%|██████████| 22/22 [00:13<00:00,  1.60it/s]"
          ]
        },
        {
          "output_type": "stream",
          "name": "stdout",
          "text": [
            "                   all        673        707      0.874      0.798      0.886      0.602\n"
          ]
        },
        {
          "output_type": "stream",
          "name": "stderr",
          "text": [
            "\n"
          ]
        },
        {
          "output_type": "stream",
          "name": "stdout",
          "text": [
            "\n",
            "      Epoch    GPU_mem   box_loss   cls_loss   dfl_loss  Instances       Size\n"
          ]
        },
        {
          "output_type": "stream",
          "name": "stderr",
          "text": [
            "      43/50      9.82G     0.9317     0.8416      1.424          0        640: 100%|██████████| 149/149 [01:57<00:00,  1.26it/s]\n",
            "                 Class     Images  Instances      Box(P          R      mAP50  mAP50-95): 100%|██████████| 22/22 [00:13<00:00,  1.58it/s]"
          ]
        },
        {
          "output_type": "stream",
          "name": "stdout",
          "text": [
            "                   all        673        707      0.876      0.795      0.881      0.604\n"
          ]
        },
        {
          "output_type": "stream",
          "name": "stderr",
          "text": [
            "\n"
          ]
        },
        {
          "output_type": "stream",
          "name": "stdout",
          "text": [
            "\n",
            "      Epoch    GPU_mem   box_loss   cls_loss   dfl_loss  Instances       Size\n"
          ]
        },
        {
          "output_type": "stream",
          "name": "stderr",
          "text": [
            "      44/50      9.71G     0.9253     0.7787      1.424          2        640: 100%|██████████| 149/149 [01:57<00:00,  1.27it/s]\n",
            "                 Class     Images  Instances      Box(P          R      mAP50  mAP50-95): 100%|██████████| 22/22 [00:13<00:00,  1.59it/s]"
          ]
        },
        {
          "output_type": "stream",
          "name": "stdout",
          "text": [
            "                   all        673        707      0.878      0.832      0.894      0.607\n"
          ]
        },
        {
          "output_type": "stream",
          "name": "stderr",
          "text": [
            "\n"
          ]
        },
        {
          "output_type": "stream",
          "name": "stdout",
          "text": [
            "\n",
            "      Epoch    GPU_mem   box_loss   cls_loss   dfl_loss  Instances       Size\n"
          ]
        },
        {
          "output_type": "stream",
          "name": "stderr",
          "text": [
            "      45/50       9.8G     0.9074     0.7537      1.419          2        640: 100%|██████████| 149/149 [01:57<00:00,  1.27it/s]\n",
            "                 Class     Images  Instances      Box(P          R      mAP50  mAP50-95): 100%|██████████| 22/22 [00:14<00:00,  1.56it/s]"
          ]
        },
        {
          "output_type": "stream",
          "name": "stdout",
          "text": [
            "                   all        673        707      0.876      0.827      0.895      0.623\n"
          ]
        },
        {
          "output_type": "stream",
          "name": "stderr",
          "text": [
            "\n"
          ]
        },
        {
          "output_type": "stream",
          "name": "stdout",
          "text": [
            "\n",
            "      Epoch    GPU_mem   box_loss   cls_loss   dfl_loss  Instances       Size\n"
          ]
        },
        {
          "output_type": "stream",
          "name": "stderr",
          "text": [
            "      46/50      9.55G     0.9122      0.744      1.413          1        640: 100%|██████████| 149/149 [01:57<00:00,  1.27it/s]\n",
            "                 Class     Images  Instances      Box(P          R      mAP50  mAP50-95): 100%|██████████| 22/22 [00:13<00:00,  1.58it/s]"
          ]
        },
        {
          "output_type": "stream",
          "name": "stdout",
          "text": [
            "                   all        673        707      0.895      0.827      0.905      0.635\n"
          ]
        },
        {
          "output_type": "stream",
          "name": "stderr",
          "text": [
            "\n"
          ]
        },
        {
          "output_type": "stream",
          "name": "stdout",
          "text": [
            "\n",
            "      Epoch    GPU_mem   box_loss   cls_loss   dfl_loss  Instances       Size\n"
          ]
        },
        {
          "output_type": "stream",
          "name": "stderr",
          "text": [
            "      47/50      9.72G     0.8846     0.7209      1.391          2        640: 100%|██████████| 149/149 [01:57<00:00,  1.27it/s]\n",
            "                 Class     Images  Instances      Box(P          R      mAP50  mAP50-95): 100%|██████████| 22/22 [00:14<00:00,  1.56it/s]"
          ]
        },
        {
          "output_type": "stream",
          "name": "stdout",
          "text": [
            "                   all        673        707       0.87      0.839      0.907      0.632\n"
          ]
        },
        {
          "output_type": "stream",
          "name": "stderr",
          "text": [
            "\n"
          ]
        },
        {
          "output_type": "stream",
          "name": "stdout",
          "text": [
            "\n",
            "      Epoch    GPU_mem   box_loss   cls_loss   dfl_loss  Instances       Size\n"
          ]
        },
        {
          "output_type": "stream",
          "name": "stderr",
          "text": [
            "      48/50       9.8G     0.8729     0.7045      1.373          6        640: 100%|██████████| 149/149 [01:57<00:00,  1.27it/s]\n",
            "                 Class     Images  Instances      Box(P          R      mAP50  mAP50-95): 100%|██████████| 22/22 [00:13<00:00,  1.58it/s]"
          ]
        },
        {
          "output_type": "stream",
          "name": "stdout",
          "text": [
            "                   all        673        707      0.896       0.84      0.913      0.648\n"
          ]
        },
        {
          "output_type": "stream",
          "name": "stderr",
          "text": [
            "\n"
          ]
        },
        {
          "output_type": "stream",
          "name": "stdout",
          "text": [
            "\n",
            "      Epoch    GPU_mem   box_loss   cls_loss   dfl_loss  Instances       Size\n"
          ]
        },
        {
          "output_type": "stream",
          "name": "stderr",
          "text": [
            "      49/50      9.81G     0.8515       0.68      1.371          2        640: 100%|██████████| 149/149 [01:57<00:00,  1.27it/s]\n",
            "                 Class     Images  Instances      Box(P          R      mAP50  mAP50-95): 100%|██████████| 22/22 [00:13<00:00,  1.57it/s]"
          ]
        },
        {
          "output_type": "stream",
          "name": "stdout",
          "text": [
            "                   all        673        707        0.9       0.83      0.911      0.646\n"
          ]
        },
        {
          "output_type": "stream",
          "name": "stderr",
          "text": [
            "\n"
          ]
        },
        {
          "output_type": "stream",
          "name": "stdout",
          "text": [
            "\n",
            "      Epoch    GPU_mem   box_loss   cls_loss   dfl_loss  Instances       Size\n"
          ]
        },
        {
          "output_type": "stream",
          "name": "stderr",
          "text": [
            "      50/50      9.65G     0.8472     0.6654      1.362          2        640: 100%|██████████| 149/149 [01:57<00:00,  1.27it/s]\n",
            "                 Class     Images  Instances      Box(P          R      mAP50  mAP50-95): 100%|██████████| 22/22 [00:13<00:00,  1.59it/s]"
          ]
        },
        {
          "output_type": "stream",
          "name": "stdout",
          "text": [
            "                   all        673        707      0.906      0.843      0.914       0.65\n"
          ]
        },
        {
          "output_type": "stream",
          "name": "stderr",
          "text": [
            "\n"
          ]
        },
        {
          "output_type": "stream",
          "name": "stdout",
          "text": [
            "\n",
            "50 epochs completed in 1.878 hours.\n",
            "Optimizer stripped from runs/detect/train3/weights/last.pt, 87.6MB\n",
            "Optimizer stripped from runs/detect/train3/weights/best.pt, 87.6MB\n",
            "\n",
            "Validating runs/detect/train3/weights/best.pt...\n",
            "Ultralytics 8.3.123 🚀 Python-3.11.12 torch-2.6.0+cu124 CUDA:0 (Tesla T4, 15095MiB)\n",
            "Model summary (fused): 112 layers, 43,607,379 parameters, 0 gradients, 164.8 GFLOPs\n"
          ]
        },
        {
          "output_type": "stream",
          "name": "stderr",
          "text": [
            "                 Class     Images  Instances      Box(P          R      mAP50  mAP50-95): 100%|██████████| 22/22 [00:16<00:00,  1.37it/s]\n"
          ]
        },
        {
          "output_type": "stream",
          "name": "stdout",
          "text": [
            "                   all        673        707      0.906      0.843      0.915      0.651\n",
            "Speed: 0.3ms preprocess, 16.7ms inference, 0.0ms loss, 2.0ms postprocess per image\n",
            "Results saved to \u001b[1mruns/detect/train3\u001b[0m\n"
          ]
        },
        {
          "output_type": "execute_result",
          "data": {
            "text/plain": [
              "ultralytics.utils.metrics.DetMetrics object with attributes:\n",
              "\n",
              "ap_class_index: array([0])\n",
              "box: ultralytics.utils.metrics.Metric object\n",
              "confusion_matrix: <ultralytics.utils.metrics.ConfusionMatrix object at 0x7f47733efb10>\n",
              "curves: ['Precision-Recall(B)', 'F1-Confidence(B)', 'Precision-Confidence(B)', 'Recall-Confidence(B)']\n",
              "curves_results: [[array([          0,    0.001001,    0.002002,    0.003003,    0.004004,    0.005005,    0.006006,    0.007007,    0.008008,    0.009009,     0.01001,    0.011011,    0.012012,    0.013013,    0.014014,    0.015015,    0.016016,    0.017017,    0.018018,    0.019019,     0.02002,    0.021021,    0.022022,    0.023023,\n",
              "          0.024024,    0.025025,    0.026026,    0.027027,    0.028028,    0.029029,     0.03003,    0.031031,    0.032032,    0.033033,    0.034034,    0.035035,    0.036036,    0.037037,    0.038038,    0.039039,     0.04004,    0.041041,    0.042042,    0.043043,    0.044044,    0.045045,    0.046046,    0.047047,\n",
              "          0.048048,    0.049049,     0.05005,    0.051051,    0.052052,    0.053053,    0.054054,    0.055055,    0.056056,    0.057057,    0.058058,    0.059059,     0.06006,    0.061061,    0.062062,    0.063063,    0.064064,    0.065065,    0.066066,    0.067067,    0.068068,    0.069069,     0.07007,    0.071071,\n",
              "          0.072072,    0.073073,    0.074074,    0.075075,    0.076076,    0.077077,    0.078078,    0.079079,     0.08008,    0.081081,    0.082082,    0.083083,    0.084084,    0.085085,    0.086086,    0.087087,    0.088088,    0.089089,     0.09009,    0.091091,    0.092092,    0.093093,    0.094094,    0.095095,\n",
              "          0.096096,    0.097097,    0.098098,    0.099099,      0.1001,      0.1011,      0.1021,      0.1031,      0.1041,     0.10511,     0.10611,     0.10711,     0.10811,     0.10911,     0.11011,     0.11111,     0.11211,     0.11311,     0.11411,     0.11512,     0.11612,     0.11712,     0.11812,     0.11912,\n",
              "           0.12012,     0.12112,     0.12212,     0.12312,     0.12412,     0.12513,     0.12613,     0.12713,     0.12813,     0.12913,     0.13013,     0.13113,     0.13213,     0.13313,     0.13413,     0.13514,     0.13614,     0.13714,     0.13814,     0.13914,     0.14014,     0.14114,     0.14214,     0.14314,\n",
              "           0.14414,     0.14515,     0.14615,     0.14715,     0.14815,     0.14915,     0.15015,     0.15115,     0.15215,     0.15315,     0.15415,     0.15516,     0.15616,     0.15716,     0.15816,     0.15916,     0.16016,     0.16116,     0.16216,     0.16316,     0.16416,     0.16517,     0.16617,     0.16717,\n",
              "           0.16817,     0.16917,     0.17017,     0.17117,     0.17217,     0.17317,     0.17417,     0.17518,     0.17618,     0.17718,     0.17818,     0.17918,     0.18018,     0.18118,     0.18218,     0.18318,     0.18418,     0.18519,     0.18619,     0.18719,     0.18819,     0.18919,     0.19019,     0.19119,\n",
              "           0.19219,     0.19319,     0.19419,      0.1952,      0.1962,      0.1972,      0.1982,      0.1992,      0.2002,      0.2012,      0.2022,      0.2032,      0.2042,     0.20521,     0.20621,     0.20721,     0.20821,     0.20921,     0.21021,     0.21121,     0.21221,     0.21321,     0.21421,     0.21522,\n",
              "           0.21622,     0.21722,     0.21822,     0.21922,     0.22022,     0.22122,     0.22222,     0.22322,     0.22422,     0.22523,     0.22623,     0.22723,     0.22823,     0.22923,     0.23023,     0.23123,     0.23223,     0.23323,     0.23423,     0.23524,     0.23624,     0.23724,     0.23824,     0.23924,\n",
              "           0.24024,     0.24124,     0.24224,     0.24324,     0.24424,     0.24525,     0.24625,     0.24725,     0.24825,     0.24925,     0.25025,     0.25125,     0.25225,     0.25325,     0.25425,     0.25526,     0.25626,     0.25726,     0.25826,     0.25926,     0.26026,     0.26126,     0.26226,     0.26326,\n",
              "           0.26426,     0.26527,     0.26627,     0.26727,     0.26827,     0.26927,     0.27027,     0.27127,     0.27227,     0.27327,     0.27427,     0.27528,     0.27628,     0.27728,     0.27828,     0.27928,     0.28028,     0.28128,     0.28228,     0.28328,     0.28428,     0.28529,     0.28629,     0.28729,\n",
              "           0.28829,     0.28929,     0.29029,     0.29129,     0.29229,     0.29329,     0.29429,      0.2953,      0.2963,      0.2973,      0.2983,      0.2993,      0.3003,      0.3013,      0.3023,      0.3033,      0.3043,     0.30531,     0.30631,     0.30731,     0.30831,     0.30931,     0.31031,     0.31131,\n",
              "           0.31231,     0.31331,     0.31431,     0.31532,     0.31632,     0.31732,     0.31832,     0.31932,     0.32032,     0.32132,     0.32232,     0.32332,     0.32432,     0.32533,     0.32633,     0.32733,     0.32833,     0.32933,     0.33033,     0.33133,     0.33233,     0.33333,     0.33433,     0.33534,\n",
              "           0.33634,     0.33734,     0.33834,     0.33934,     0.34034,     0.34134,     0.34234,     0.34334,     0.34434,     0.34535,     0.34635,     0.34735,     0.34835,     0.34935,     0.35035,     0.35135,     0.35235,     0.35335,     0.35435,     0.35536,     0.35636,     0.35736,     0.35836,     0.35936,\n",
              "           0.36036,     0.36136,     0.36236,     0.36336,     0.36436,     0.36537,     0.36637,     0.36737,     0.36837,     0.36937,     0.37037,     0.37137,     0.37237,     0.37337,     0.37437,     0.37538,     0.37638,     0.37738,     0.37838,     0.37938,     0.38038,     0.38138,     0.38238,     0.38338,\n",
              "           0.38438,     0.38539,     0.38639,     0.38739,     0.38839,     0.38939,     0.39039,     0.39139,     0.39239,     0.39339,     0.39439,      0.3954,      0.3964,      0.3974,      0.3984,      0.3994,      0.4004,      0.4014,      0.4024,      0.4034,      0.4044,     0.40541,     0.40641,     0.40741,\n",
              "           0.40841,     0.40941,     0.41041,     0.41141,     0.41241,     0.41341,     0.41441,     0.41542,     0.41642,     0.41742,     0.41842,     0.41942,     0.42042,     0.42142,     0.42242,     0.42342,     0.42442,     0.42543,     0.42643,     0.42743,     0.42843,     0.42943,     0.43043,     0.43143,\n",
              "           0.43243,     0.43343,     0.43443,     0.43544,     0.43644,     0.43744,     0.43844,     0.43944,     0.44044,     0.44144,     0.44244,     0.44344,     0.44444,     0.44545,     0.44645,     0.44745,     0.44845,     0.44945,     0.45045,     0.45145,     0.45245,     0.45345,     0.45445,     0.45546,\n",
              "           0.45646,     0.45746,     0.45846,     0.45946,     0.46046,     0.46146,     0.46246,     0.46346,     0.46446,     0.46547,     0.46647,     0.46747,     0.46847,     0.46947,     0.47047,     0.47147,     0.47247,     0.47347,     0.47447,     0.47548,     0.47648,     0.47748,     0.47848,     0.47948,\n",
              "           0.48048,     0.48148,     0.48248,     0.48348,     0.48448,     0.48549,     0.48649,     0.48749,     0.48849,     0.48949,     0.49049,     0.49149,     0.49249,     0.49349,     0.49449,      0.4955,      0.4965,      0.4975,      0.4985,      0.4995,      0.5005,      0.5015,      0.5025,      0.5035,\n",
              "            0.5045,     0.50551,     0.50651,     0.50751,     0.50851,     0.50951,     0.51051,     0.51151,     0.51251,     0.51351,     0.51451,     0.51552,     0.51652,     0.51752,     0.51852,     0.51952,     0.52052,     0.52152,     0.52252,     0.52352,     0.52452,     0.52553,     0.52653,     0.52753,\n",
              "           0.52853,     0.52953,     0.53053,     0.53153,     0.53253,     0.53353,     0.53453,     0.53554,     0.53654,     0.53754,     0.53854,     0.53954,     0.54054,     0.54154,     0.54254,     0.54354,     0.54454,     0.54555,     0.54655,     0.54755,     0.54855,     0.54955,     0.55055,     0.55155,\n",
              "           0.55255,     0.55355,     0.55455,     0.55556,     0.55656,     0.55756,     0.55856,     0.55956,     0.56056,     0.56156,     0.56256,     0.56356,     0.56456,     0.56557,     0.56657,     0.56757,     0.56857,     0.56957,     0.57057,     0.57157,     0.57257,     0.57357,     0.57457,     0.57558,\n",
              "           0.57658,     0.57758,     0.57858,     0.57958,     0.58058,     0.58158,     0.58258,     0.58358,     0.58458,     0.58559,     0.58659,     0.58759,     0.58859,     0.58959,     0.59059,     0.59159,     0.59259,     0.59359,     0.59459,      0.5956,      0.5966,      0.5976,      0.5986,      0.5996,\n",
              "            0.6006,      0.6016,      0.6026,      0.6036,      0.6046,     0.60561,     0.60661,     0.60761,     0.60861,     0.60961,     0.61061,     0.61161,     0.61261,     0.61361,     0.61461,     0.61562,     0.61662,     0.61762,     0.61862,     0.61962,     0.62062,     0.62162,     0.62262,     0.62362,\n",
              "           0.62462,     0.62563,     0.62663,     0.62763,     0.62863,     0.62963,     0.63063,     0.63163,     0.63263,     0.63363,     0.63463,     0.63564,     0.63664,     0.63764,     0.63864,     0.63964,     0.64064,     0.64164,     0.64264,     0.64364,     0.64464,     0.64565,     0.64665,     0.64765,\n",
              "           0.64865,     0.64965,     0.65065,     0.65165,     0.65265,     0.65365,     0.65465,     0.65566,     0.65666,     0.65766,     0.65866,     0.65966,     0.66066,     0.66166,     0.66266,     0.66366,     0.66466,     0.66567,     0.66667,     0.66767,     0.66867,     0.66967,     0.67067,     0.67167,\n",
              "           0.67267,     0.67367,     0.67467,     0.67568,     0.67668,     0.67768,     0.67868,     0.67968,     0.68068,     0.68168,     0.68268,     0.68368,     0.68468,     0.68569,     0.68669,     0.68769,     0.68869,     0.68969,     0.69069,     0.69169,     0.69269,     0.69369,     0.69469,      0.6957,\n",
              "            0.6967,      0.6977,      0.6987,      0.6997,      0.7007,      0.7017,      0.7027,      0.7037,      0.7047,     0.70571,     0.70671,     0.70771,     0.70871,     0.70971,     0.71071,     0.71171,     0.71271,     0.71371,     0.71471,     0.71572,     0.71672,     0.71772,     0.71872,     0.71972,\n",
              "           0.72072,     0.72172,     0.72272,     0.72372,     0.72472,     0.72573,     0.72673,     0.72773,     0.72873,     0.72973,     0.73073,     0.73173,     0.73273,     0.73373,     0.73473,     0.73574,     0.73674,     0.73774,     0.73874,     0.73974,     0.74074,     0.74174,     0.74274,     0.74374,\n",
              "           0.74474,     0.74575,     0.74675,     0.74775,     0.74875,     0.74975,     0.75075,     0.75175,     0.75275,     0.75375,     0.75475,     0.75576,     0.75676,     0.75776,     0.75876,     0.75976,     0.76076,     0.76176,     0.76276,     0.76376,     0.76476,     0.76577,     0.76677,     0.76777,\n",
              "           0.76877,     0.76977,     0.77077,     0.77177,     0.77277,     0.77377,     0.77477,     0.77578,     0.77678,     0.77778,     0.77878,     0.77978,     0.78078,     0.78178,     0.78278,     0.78378,     0.78478,     0.78579,     0.78679,     0.78779,     0.78879,     0.78979,     0.79079,     0.79179,\n",
              "           0.79279,     0.79379,     0.79479,      0.7958,      0.7968,      0.7978,      0.7988,      0.7998,      0.8008,      0.8018,      0.8028,      0.8038,      0.8048,     0.80581,     0.80681,     0.80781,     0.80881,     0.80981,     0.81081,     0.81181,     0.81281,     0.81381,     0.81481,     0.81582,\n",
              "           0.81682,     0.81782,     0.81882,     0.81982,     0.82082,     0.82182,     0.82282,     0.82382,     0.82482,     0.82583,     0.82683,     0.82783,     0.82883,     0.82983,     0.83083,     0.83183,     0.83283,     0.83383,     0.83483,     0.83584,     0.83684,     0.83784,     0.83884,     0.83984,\n",
              "           0.84084,     0.84184,     0.84284,     0.84384,     0.84484,     0.84585,     0.84685,     0.84785,     0.84885,     0.84985,     0.85085,     0.85185,     0.85285,     0.85385,     0.85485,     0.85586,     0.85686,     0.85786,     0.85886,     0.85986,     0.86086,     0.86186,     0.86286,     0.86386,\n",
              "           0.86486,     0.86587,     0.86687,     0.86787,     0.86887,     0.86987,     0.87087,     0.87187,     0.87287,     0.87387,     0.87487,     0.87588,     0.87688,     0.87788,     0.87888,     0.87988,     0.88088,     0.88188,     0.88288,     0.88388,     0.88488,     0.88589,     0.88689,     0.88789,\n",
              "           0.88889,     0.88989,     0.89089,     0.89189,     0.89289,     0.89389,     0.89489,      0.8959,      0.8969,      0.8979,      0.8989,      0.8999,      0.9009,      0.9019,      0.9029,      0.9039,      0.9049,     0.90591,     0.90691,     0.90791,     0.90891,     0.90991,     0.91091,     0.91191,\n",
              "           0.91291,     0.91391,     0.91491,     0.91592,     0.91692,     0.91792,     0.91892,     0.91992,     0.92092,     0.92192,     0.92292,     0.92392,     0.92492,     0.92593,     0.92693,     0.92793,     0.92893,     0.92993,     0.93093,     0.93193,     0.93293,     0.93393,     0.93493,     0.93594,\n",
              "           0.93694,     0.93794,     0.93894,     0.93994,     0.94094,     0.94194,     0.94294,     0.94394,     0.94494,     0.94595,     0.94695,     0.94795,     0.94895,     0.94995,     0.95095,     0.95195,     0.95295,     0.95395,     0.95495,     0.95596,     0.95696,     0.95796,     0.95896,     0.95996,\n",
              "           0.96096,     0.96196,     0.96296,     0.96396,     0.96496,     0.96597,     0.96697,     0.96797,     0.96897,     0.96997,     0.97097,     0.97197,     0.97297,     0.97397,     0.97497,     0.97598,     0.97698,     0.97798,     0.97898,     0.97998,     0.98098,     0.98198,     0.98298,     0.98398,\n",
              "           0.98498,     0.98599,     0.98699,     0.98799,     0.98899,     0.98999,     0.99099,     0.99199,     0.99299,     0.99399,     0.99499,       0.996,       0.997,       0.998,       0.999,           1]), array([[          1,           1,           1,           1,           1,           1,           1,           1,           1,           1,           1,           1,           1,           1,           1,           1,           1,           1,           1,           1,           1,           1,           1,\n",
              "                  1,           1,           1,           1,           1,           1,           1,           1,           1,           1,           1,           1,           1,           1,           1,           1,           1,           1,           1,           1,           1,           1,           1,\n",
              "                  1,           1,           1,           1,           1,           1,           1,           1,           1,           1,           1,           1,           1,           1,           1,           1,           1,           1,           1,           1,           1,           1,           1,\n",
              "                  1,           1,           1,           1,           1,           1,           1,           1,           1,           1,           1,           1,           1,           1,           1,           1,           1,           1,           1,           1,           1,           1,           1,\n",
              "                  1,           1,           1,           1,           1,           1,           1,           1,           1,           1,           1,           1,           1,           1,           1,           1,           1,           1,           1,           1,           1,           1,           1,\n",
              "                  1,           1,           1,           1,           1,           1,           1,           1,           1,           1,           1,           1,           1,           1,           1,           1,           1,           1,           1,           1,           1,           1,           1,\n",
              "                  1,           1,           1,           1,           1,           1,           1,           1,           1,           1,           1,           1,           1,           1,           1,           1,           1,           1,           1,           1,           1,           1,           1,\n",
              "                  1,           1,           1,           1,           1,           1,           1,           1,           1,           1,           1,           1,           1,           1,           1,           1,           1,           1,           1,           1,           1,           1,           1,\n",
              "                  1,           1,           1,           1,           1,           1,           1,           1,           1,           1,           1,           1,           1,           1,           1,           1,           1,           1,           1,           1,           1,           1,           1,\n",
              "                  1,           1,           1,           1,           1,           1,           1,           1,           1,           1,           1,           1,           1,           1,           1,           1,           1,           1,           1,           1,           1,           1,           1,\n",
              "                  1,           1,           1,           1,           1,           1,           1,           1,           1,           1,           1,           1,           1,           1,           1,           1,           1,           1,           1,           1,           1,           1,           1,\n",
              "                  1,           1,           1,           1,           1,           1,           1,           1,           1,           1,           1,           1,           1,           1,           1,           1,           1,           1,           1,           1,           1,           1,           1,\n",
              "                  1,           1,           1,           1,           1,           1,           1,           1,           1,           1,           1,           1,           1,           1,           1,           1,           1,           1,     0.99708,     0.99708,     0.99708,     0.99708,     0.99708,\n",
              "            0.99708,     0.99708,     0.99708,     0.99708,     0.99708,     0.99708,     0.99708,     0.99708,     0.99708,     0.99708,     0.99708,     0.99708,     0.99708,     0.99708,     0.99708,     0.99708,     0.99708,     0.99708,     0.99708,     0.99708,     0.99708,     0.99708,     0.99708,\n",
              "            0.99708,     0.99708,     0.99708,     0.99708,     0.99708,     0.99708,     0.99708,     0.99708,     0.99708,     0.99708,     0.99708,     0.99708,     0.99708,     0.99708,     0.99708,     0.99708,     0.99708,     0.99708,     0.99708,     0.99708,     0.99708,     0.99708,     0.99708,\n",
              "            0.99708,     0.99708,     0.99708,     0.99708,     0.99708,     0.99708,     0.99708,     0.99708,     0.99708,     0.99708,     0.99708,     0.99708,     0.99708,     0.99708,     0.99708,     0.99708,     0.99708,     0.99708,     0.99708,     0.99708,     0.99708,     0.99708,     0.99708,\n",
              "            0.99708,     0.99708,     0.99708,     0.99708,     0.99708,     0.99708,     0.99708,     0.99708,     0.99708,     0.99708,     0.99708,     0.99708,     0.99708,     0.99708,     0.99708,     0.99708,     0.99708,     0.99708,     0.99708,     0.99708,     0.99708,     0.99708,     0.99708,\n",
              "            0.99708,     0.99708,     0.99708,     0.99708,     0.99708,     0.99708,     0.99708,     0.99708,     0.99708,     0.99708,     0.99708,     0.99708,     0.99708,     0.99708,     0.99708,     0.99708,     0.99708,     0.99708,     0.99708,     0.99708,     0.99708,     0.99708,     0.99708,\n",
              "            0.99708,     0.99708,     0.99708,     0.99708,     0.99708,     0.99708,     0.99708,     0.99708,     0.99708,     0.99708,     0.99708,     0.99708,     0.99708,     0.99708,     0.99708,     0.99708,     0.99708,     0.99708,     0.99708,     0.99708,     0.99708,     0.99708,     0.99708,\n",
              "            0.99708,     0.99708,     0.99708,     0.99708,     0.99708,     0.99708,     0.99708,     0.99708,     0.99708,     0.99708,     0.99708,     0.99708,     0.99708,     0.99708,     0.99708,     0.99708,     0.99708,     0.99708,     0.99708,     0.99708,     0.99708,     0.99708,     0.99708,\n",
              "            0.99708,     0.99708,     0.99708,     0.99708,     0.99708,     0.99708,     0.99708,     0.99708,     0.99708,     0.99708,     0.99708,     0.99708,     0.99708,     0.99708,     0.99708,     0.99708,     0.99708,     0.99708,     0.99708,     0.99708,     0.99708,     0.99708,     0.99708,\n",
              "            0.99708,     0.99424,     0.99424,     0.99424,     0.99424,     0.99157,     0.99157,     0.99157,     0.99157,     0.99157,     0.99157,     0.99157,     0.99157,     0.99157,     0.99157,     0.99157,     0.98886,     0.98886,     0.98886,     0.98691,     0.98691,     0.98691,     0.98691,\n",
              "            0.98691,     0.98691,     0.98691,     0.98691,     0.98691,     0.98691,     0.98691,     0.98691,     0.98691,     0.98691,     0.98691,     0.98691,     0.98691,     0.98691,     0.98691,     0.98691,     0.98691,     0.98691,     0.98691,     0.98691,     0.98691,     0.98691,     0.98691,\n",
              "            0.98691,     0.98691,     0.98691,     0.98691,     0.98477,     0.98477,     0.98477,     0.98477,     0.98477,     0.98477,     0.98477,     0.98477,     0.98477,     0.98477,     0.98477,     0.98477,     0.98477,     0.98477,     0.98477,     0.98477,     0.98345,     0.98345,     0.98345,\n",
              "            0.98345,     0.98345,     0.98345,     0.98345,     0.98345,     0.98345,     0.98345,     0.98345,     0.98345,     0.98345,     0.98345,     0.98345,     0.98345,     0.98345,     0.98345,     0.98345,     0.98345,     0.98345,     0.98345,     0.98345,     0.98345,     0.98345,     0.98345,\n",
              "            0.98345,     0.98345,     0.98345,     0.98345,     0.98345,     0.98345,     0.98345,     0.98345,     0.98345,     0.98345,     0.98345,     0.98345,     0.98345,     0.98174,     0.98174,     0.98174,     0.98174,     0.98174,     0.98174,     0.98174,     0.98174,     0.98174,     0.98174,\n",
              "            0.98174,     0.98174,     0.98174,     0.98174,     0.98174,     0.98174,     0.98174,     0.98174,     0.98174,     0.98174,     0.97964,     0.97964,     0.97964,     0.97964,     0.97561,     0.97561,     0.97561,     0.97561,     0.97561,     0.97561,     0.97561,     0.97561,     0.97561,\n",
              "            0.97561,     0.97363,     0.97363,     0.97363,     0.97363,     0.97234,     0.97234,     0.97234,     0.97234,     0.97234,     0.97234,     0.97234,     0.97234,     0.97234,     0.97234,     0.97234,     0.97234,     0.97234,     0.97234,     0.97234,     0.97234,     0.97234,     0.97234,\n",
              "            0.97234,     0.97234,     0.97046,     0.97046,     0.97046,     0.97046,     0.96855,     0.96855,     0.96855,     0.96741,     0.96741,     0.96741,     0.96741,     0.96741,     0.96741,     0.96741,     0.96741,     0.96741,     0.96741,     0.96741,     0.96741,     0.96741,     0.96741,\n",
              "            0.96741,     0.96741,     0.96741,     0.96741,     0.96741,     0.96566,     0.96566,     0.96566,     0.96566,     0.96378,     0.96238,     0.96238,     0.96238,     0.96238,     0.96238,     0.96238,     0.96238,     0.96238,     0.96238,     0.96238,     0.96063,     0.96063,     0.96063,\n",
              "            0.95882,     0.95712,     0.95712,     0.95712,     0.95543,     0.95543,     0.95543,     0.95247,     0.95247,     0.95247,     0.95247,     0.95247,     0.95247,     0.95247,     0.95247,     0.95247,     0.95247,     0.95247,     0.95158,     0.95158,     0.95158,     0.95158,     0.95158,\n",
              "            0.95158,     0.95158,     0.95158,     0.95158,     0.95158,     0.95158,     0.95158,     0.95158,     0.95158,     0.95158,     0.95018,     0.95018,     0.95018,     0.95018,     0.95018,     0.94853,     0.94853,     0.94727,     0.94727,     0.94727,     0.94727,     0.94727,     0.94727,\n",
              "            0.94727,     0.94565,     0.94464,     0.94464,     0.94464,     0.94464,     0.94464,     0.94464,     0.94464,     0.94464,     0.94464,     0.94464,     0.94316,     0.94316,     0.94316,     0.94159,     0.94014,     0.94014,     0.94014,     0.93706,     0.93706,     0.93706,     0.93554,\n",
              "            0.93414,     0.93414,     0.93414,     0.93264,     0.93264,     0.93162,     0.93162,     0.93162,     0.93162,     0.93162,     0.93162,     0.93162,     0.93015,     0.92869,     0.92724,     0.92724,     0.92617,     0.92617,     0.92617,     0.92617,     0.92617,     0.92475,     0.92475,\n",
              "            0.92359,     0.92359,     0.92359,     0.92359,     0.92257,     0.92257,     0.92257,     0.92257,     0.92257,     0.92257,     0.92182,     0.92182,     0.92182,     0.92182,     0.92182,     0.92182,     0.92182,     0.92182,     0.91922,     0.91922,     0.91922,     0.91922,     0.91922,\n",
              "             0.9184,      0.9184,      0.9184,      0.9184,      0.9184,      0.9184,      0.9184,     0.91733,     0.91733,     0.91733,     0.91733,     0.91509,     0.91509,     0.91509,     0.91509,     0.91509,     0.91509,     0.91509,     0.91393,     0.91393,     0.91393,     0.91318,     0.91318,\n",
              "            0.91318,     0.91318,     0.91318,     0.91318,     0.91318,      0.9119,     0.90923,     0.90923,     0.90812,     0.90812,     0.90687,     0.90687,     0.90578,     0.90578,     0.90578,     0.90181,     0.89925,     0.89537,     0.89537,     0.89153,     0.89037,     0.89037,     0.88399,\n",
              "            0.88287,     0.88287,     0.87936,     0.87936,     0.87572,     0.87572,     0.87106,     0.87106,     0.87106,     0.86752,     0.86648,     0.86056,     0.86056,     0.85714,     0.85615,     0.85615,     0.84341,     0.84332,     0.84332,     0.84332,     0.84332,     0.84332,     0.84332,\n",
              "            0.84332,     0.83558,     0.83558,     0.83244,     0.82956,     0.82956,     0.82956,     0.82322,     0.81913,     0.81913,     0.81617,     0.80591,     0.80513,     0.80513,      0.8023,     0.79345,     0.79345,     0.78634,     0.78634,     0.78634,     0.78634,     0.78368,     0.77628,\n",
              "            0.77628,     0.77278,     0.76562,     0.76562,     0.76407,     0.75891,     0.75472,     0.75472,     0.75088,     0.75088,     0.75088,     0.74594,     0.74023,     0.73129,     0.73129,     0.72912,     0.72291,     0.72291,     0.71634,     0.71634,     0.71634,     0.71429,     0.70378,\n",
              "            0.69436,     0.69436,     0.67739,     0.63681,     0.63681,     0.62655,     0.62655,     0.61116,     0.61116,     0.60146,     0.59746,     0.59746,     0.58459,     0.57478,     0.57478,      0.5702,      0.5633,     0.55939,     0.55939,     0.55742,       0.555,       0.555,     0.55307,\n",
              "            0.53569,      0.5318,      0.5318,     0.46335,     0.46308,     0.46308,     0.46249,     0.41314,     0.39694,     0.39694,     0.38483,     0.35486,     0.35486,     0.27757,     0.22502,     0.22502,     0.21285,     0.21243,     0.20286,     0.20286,     0.18235,     0.17969,     0.17969,\n",
              "            0.12785,     0.12365,     0.11803,     0.11803,     0.11788,    0.099523,    0.099523,    0.096041,    0.092086,    0.084248,    0.084248,     0.07477,    0.072377,     0.06893,    0.065484,    0.062037,    0.058591,    0.055144,    0.051698,    0.048251,    0.044805,    0.041358,    0.037912,\n",
              "           0.034465,    0.031019,    0.027572,    0.024126,    0.020679,    0.017233,    0.013786,     0.01034,    0.006893,   0.0034465,           0]]), 'Recall', 'Precision'], [array([          0,    0.001001,    0.002002,    0.003003,    0.004004,    0.005005,    0.006006,    0.007007,    0.008008,    0.009009,     0.01001,    0.011011,    0.012012,    0.013013,    0.014014,    0.015015,    0.016016,    0.017017,    0.018018,    0.019019,     0.02002,    0.021021,    0.022022,    0.023023,\n",
              "          0.024024,    0.025025,    0.026026,    0.027027,    0.028028,    0.029029,     0.03003,    0.031031,    0.032032,    0.033033,    0.034034,    0.035035,    0.036036,    0.037037,    0.038038,    0.039039,     0.04004,    0.041041,    0.042042,    0.043043,    0.044044,    0.045045,    0.046046,    0.047047,\n",
              "          0.048048,    0.049049,     0.05005,    0.051051,    0.052052,    0.053053,    0.054054,    0.055055,    0.056056,    0.057057,    0.058058,    0.059059,     0.06006,    0.061061,    0.062062,    0.063063,    0.064064,    0.065065,    0.066066,    0.067067,    0.068068,    0.069069,     0.07007,    0.071071,\n",
              "          0.072072,    0.073073,    0.074074,    0.075075,    0.076076,    0.077077,    0.078078,    0.079079,     0.08008,    0.081081,    0.082082,    0.083083,    0.084084,    0.085085,    0.086086,    0.087087,    0.088088,    0.089089,     0.09009,    0.091091,    0.092092,    0.093093,    0.094094,    0.095095,\n",
              "          0.096096,    0.097097,    0.098098,    0.099099,      0.1001,      0.1011,      0.1021,      0.1031,      0.1041,     0.10511,     0.10611,     0.10711,     0.10811,     0.10911,     0.11011,     0.11111,     0.11211,     0.11311,     0.11411,     0.11512,     0.11612,     0.11712,     0.11812,     0.11912,\n",
              "           0.12012,     0.12112,     0.12212,     0.12312,     0.12412,     0.12513,     0.12613,     0.12713,     0.12813,     0.12913,     0.13013,     0.13113,     0.13213,     0.13313,     0.13413,     0.13514,     0.13614,     0.13714,     0.13814,     0.13914,     0.14014,     0.14114,     0.14214,     0.14314,\n",
              "           0.14414,     0.14515,     0.14615,     0.14715,     0.14815,     0.14915,     0.15015,     0.15115,     0.15215,     0.15315,     0.15415,     0.15516,     0.15616,     0.15716,     0.15816,     0.15916,     0.16016,     0.16116,     0.16216,     0.16316,     0.16416,     0.16517,     0.16617,     0.16717,\n",
              "           0.16817,     0.16917,     0.17017,     0.17117,     0.17217,     0.17317,     0.17417,     0.17518,     0.17618,     0.17718,     0.17818,     0.17918,     0.18018,     0.18118,     0.18218,     0.18318,     0.18418,     0.18519,     0.18619,     0.18719,     0.18819,     0.18919,     0.19019,     0.19119,\n",
              "           0.19219,     0.19319,     0.19419,      0.1952,      0.1962,      0.1972,      0.1982,      0.1992,      0.2002,      0.2012,      0.2022,      0.2032,      0.2042,     0.20521,     0.20621,     0.20721,     0.20821,     0.20921,     0.21021,     0.21121,     0.21221,     0.21321,     0.21421,     0.21522,\n",
              "           0.21622,     0.21722,     0.21822,     0.21922,     0.22022,     0.22122,     0.22222,     0.22322,     0.22422,     0.22523,     0.22623,     0.22723,     0.22823,     0.22923,     0.23023,     0.23123,     0.23223,     0.23323,     0.23423,     0.23524,     0.23624,     0.23724,     0.23824,     0.23924,\n",
              "           0.24024,     0.24124,     0.24224,     0.24324,     0.24424,     0.24525,     0.24625,     0.24725,     0.24825,     0.24925,     0.25025,     0.25125,     0.25225,     0.25325,     0.25425,     0.25526,     0.25626,     0.25726,     0.25826,     0.25926,     0.26026,     0.26126,     0.26226,     0.26326,\n",
              "           0.26426,     0.26527,     0.26627,     0.26727,     0.26827,     0.26927,     0.27027,     0.27127,     0.27227,     0.27327,     0.27427,     0.27528,     0.27628,     0.27728,     0.27828,     0.27928,     0.28028,     0.28128,     0.28228,     0.28328,     0.28428,     0.28529,     0.28629,     0.28729,\n",
              "           0.28829,     0.28929,     0.29029,     0.29129,     0.29229,     0.29329,     0.29429,      0.2953,      0.2963,      0.2973,      0.2983,      0.2993,      0.3003,      0.3013,      0.3023,      0.3033,      0.3043,     0.30531,     0.30631,     0.30731,     0.30831,     0.30931,     0.31031,     0.31131,\n",
              "           0.31231,     0.31331,     0.31431,     0.31532,     0.31632,     0.31732,     0.31832,     0.31932,     0.32032,     0.32132,     0.32232,     0.32332,     0.32432,     0.32533,     0.32633,     0.32733,     0.32833,     0.32933,     0.33033,     0.33133,     0.33233,     0.33333,     0.33433,     0.33534,\n",
              "           0.33634,     0.33734,     0.33834,     0.33934,     0.34034,     0.34134,     0.34234,     0.34334,     0.34434,     0.34535,     0.34635,     0.34735,     0.34835,     0.34935,     0.35035,     0.35135,     0.35235,     0.35335,     0.35435,     0.35536,     0.35636,     0.35736,     0.35836,     0.35936,\n",
              "           0.36036,     0.36136,     0.36236,     0.36336,     0.36436,     0.36537,     0.36637,     0.36737,     0.36837,     0.36937,     0.37037,     0.37137,     0.37237,     0.37337,     0.37437,     0.37538,     0.37638,     0.37738,     0.37838,     0.37938,     0.38038,     0.38138,     0.38238,     0.38338,\n",
              "           0.38438,     0.38539,     0.38639,     0.38739,     0.38839,     0.38939,     0.39039,     0.39139,     0.39239,     0.39339,     0.39439,      0.3954,      0.3964,      0.3974,      0.3984,      0.3994,      0.4004,      0.4014,      0.4024,      0.4034,      0.4044,     0.40541,     0.40641,     0.40741,\n",
              "           0.40841,     0.40941,     0.41041,     0.41141,     0.41241,     0.41341,     0.41441,     0.41542,     0.41642,     0.41742,     0.41842,     0.41942,     0.42042,     0.42142,     0.42242,     0.42342,     0.42442,     0.42543,     0.42643,     0.42743,     0.42843,     0.42943,     0.43043,     0.43143,\n",
              "           0.43243,     0.43343,     0.43443,     0.43544,     0.43644,     0.43744,     0.43844,     0.43944,     0.44044,     0.44144,     0.44244,     0.44344,     0.44444,     0.44545,     0.44645,     0.44745,     0.44845,     0.44945,     0.45045,     0.45145,     0.45245,     0.45345,     0.45445,     0.45546,\n",
              "           0.45646,     0.45746,     0.45846,     0.45946,     0.46046,     0.46146,     0.46246,     0.46346,     0.46446,     0.46547,     0.46647,     0.46747,     0.46847,     0.46947,     0.47047,     0.47147,     0.47247,     0.47347,     0.47447,     0.47548,     0.47648,     0.47748,     0.47848,     0.47948,\n",
              "           0.48048,     0.48148,     0.48248,     0.48348,     0.48448,     0.48549,     0.48649,     0.48749,     0.48849,     0.48949,     0.49049,     0.49149,     0.49249,     0.49349,     0.49449,      0.4955,      0.4965,      0.4975,      0.4985,      0.4995,      0.5005,      0.5015,      0.5025,      0.5035,\n",
              "            0.5045,     0.50551,     0.50651,     0.50751,     0.50851,     0.50951,     0.51051,     0.51151,     0.51251,     0.51351,     0.51451,     0.51552,     0.51652,     0.51752,     0.51852,     0.51952,     0.52052,     0.52152,     0.52252,     0.52352,     0.52452,     0.52553,     0.52653,     0.52753,\n",
              "           0.52853,     0.52953,     0.53053,     0.53153,     0.53253,     0.53353,     0.53453,     0.53554,     0.53654,     0.53754,     0.53854,     0.53954,     0.54054,     0.54154,     0.54254,     0.54354,     0.54454,     0.54555,     0.54655,     0.54755,     0.54855,     0.54955,     0.55055,     0.55155,\n",
              "           0.55255,     0.55355,     0.55455,     0.55556,     0.55656,     0.55756,     0.55856,     0.55956,     0.56056,     0.56156,     0.56256,     0.56356,     0.56456,     0.56557,     0.56657,     0.56757,     0.56857,     0.56957,     0.57057,     0.57157,     0.57257,     0.57357,     0.57457,     0.57558,\n",
              "           0.57658,     0.57758,     0.57858,     0.57958,     0.58058,     0.58158,     0.58258,     0.58358,     0.58458,     0.58559,     0.58659,     0.58759,     0.58859,     0.58959,     0.59059,     0.59159,     0.59259,     0.59359,     0.59459,      0.5956,      0.5966,      0.5976,      0.5986,      0.5996,\n",
              "            0.6006,      0.6016,      0.6026,      0.6036,      0.6046,     0.60561,     0.60661,     0.60761,     0.60861,     0.60961,     0.61061,     0.61161,     0.61261,     0.61361,     0.61461,     0.61562,     0.61662,     0.61762,     0.61862,     0.61962,     0.62062,     0.62162,     0.62262,     0.62362,\n",
              "           0.62462,     0.62563,     0.62663,     0.62763,     0.62863,     0.62963,     0.63063,     0.63163,     0.63263,     0.63363,     0.63463,     0.63564,     0.63664,     0.63764,     0.63864,     0.63964,     0.64064,     0.64164,     0.64264,     0.64364,     0.64464,     0.64565,     0.64665,     0.64765,\n",
              "           0.64865,     0.64965,     0.65065,     0.65165,     0.65265,     0.65365,     0.65465,     0.65566,     0.65666,     0.65766,     0.65866,     0.65966,     0.66066,     0.66166,     0.66266,     0.66366,     0.66466,     0.66567,     0.66667,     0.66767,     0.66867,     0.66967,     0.67067,     0.67167,\n",
              "           0.67267,     0.67367,     0.67467,     0.67568,     0.67668,     0.67768,     0.67868,     0.67968,     0.68068,     0.68168,     0.68268,     0.68368,     0.68468,     0.68569,     0.68669,     0.68769,     0.68869,     0.68969,     0.69069,     0.69169,     0.69269,     0.69369,     0.69469,      0.6957,\n",
              "            0.6967,      0.6977,      0.6987,      0.6997,      0.7007,      0.7017,      0.7027,      0.7037,      0.7047,     0.70571,     0.70671,     0.70771,     0.70871,     0.70971,     0.71071,     0.71171,     0.71271,     0.71371,     0.71471,     0.71572,     0.71672,     0.71772,     0.71872,     0.71972,\n",
              "           0.72072,     0.72172,     0.72272,     0.72372,     0.72472,     0.72573,     0.72673,     0.72773,     0.72873,     0.72973,     0.73073,     0.73173,     0.73273,     0.73373,     0.73473,     0.73574,     0.73674,     0.73774,     0.73874,     0.73974,     0.74074,     0.74174,     0.74274,     0.74374,\n",
              "           0.74474,     0.74575,     0.74675,     0.74775,     0.74875,     0.74975,     0.75075,     0.75175,     0.75275,     0.75375,     0.75475,     0.75576,     0.75676,     0.75776,     0.75876,     0.75976,     0.76076,     0.76176,     0.76276,     0.76376,     0.76476,     0.76577,     0.76677,     0.76777,\n",
              "           0.76877,     0.76977,     0.77077,     0.77177,     0.77277,     0.77377,     0.77477,     0.77578,     0.77678,     0.77778,     0.77878,     0.77978,     0.78078,     0.78178,     0.78278,     0.78378,     0.78478,     0.78579,     0.78679,     0.78779,     0.78879,     0.78979,     0.79079,     0.79179,\n",
              "           0.79279,     0.79379,     0.79479,      0.7958,      0.7968,      0.7978,      0.7988,      0.7998,      0.8008,      0.8018,      0.8028,      0.8038,      0.8048,     0.80581,     0.80681,     0.80781,     0.80881,     0.80981,     0.81081,     0.81181,     0.81281,     0.81381,     0.81481,     0.81582,\n",
              "           0.81682,     0.81782,     0.81882,     0.81982,     0.82082,     0.82182,     0.82282,     0.82382,     0.82482,     0.82583,     0.82683,     0.82783,     0.82883,     0.82983,     0.83083,     0.83183,     0.83283,     0.83383,     0.83483,     0.83584,     0.83684,     0.83784,     0.83884,     0.83984,\n",
              "           0.84084,     0.84184,     0.84284,     0.84384,     0.84484,     0.84585,     0.84685,     0.84785,     0.84885,     0.84985,     0.85085,     0.85185,     0.85285,     0.85385,     0.85485,     0.85586,     0.85686,     0.85786,     0.85886,     0.85986,     0.86086,     0.86186,     0.86286,     0.86386,\n",
              "           0.86486,     0.86587,     0.86687,     0.86787,     0.86887,     0.86987,     0.87087,     0.87187,     0.87287,     0.87387,     0.87487,     0.87588,     0.87688,     0.87788,     0.87888,     0.87988,     0.88088,     0.88188,     0.88288,     0.88388,     0.88488,     0.88589,     0.88689,     0.88789,\n",
              "           0.88889,     0.88989,     0.89089,     0.89189,     0.89289,     0.89389,     0.89489,      0.8959,      0.8969,      0.8979,      0.8989,      0.8999,      0.9009,      0.9019,      0.9029,      0.9039,      0.9049,     0.90591,     0.90691,     0.90791,     0.90891,     0.90991,     0.91091,     0.91191,\n",
              "           0.91291,     0.91391,     0.91491,     0.91592,     0.91692,     0.91792,     0.91892,     0.91992,     0.92092,     0.92192,     0.92292,     0.92392,     0.92492,     0.92593,     0.92693,     0.92793,     0.92893,     0.92993,     0.93093,     0.93193,     0.93293,     0.93393,     0.93493,     0.93594,\n",
              "           0.93694,     0.93794,     0.93894,     0.93994,     0.94094,     0.94194,     0.94294,     0.94394,     0.94494,     0.94595,     0.94695,     0.94795,     0.94895,     0.94995,     0.95095,     0.95195,     0.95295,     0.95395,     0.95495,     0.95596,     0.95696,     0.95796,     0.95896,     0.95996,\n",
              "           0.96096,     0.96196,     0.96296,     0.96396,     0.96496,     0.96597,     0.96697,     0.96797,     0.96897,     0.96997,     0.97097,     0.97197,     0.97297,     0.97397,     0.97497,     0.97598,     0.97698,     0.97798,     0.97898,     0.97998,     0.98098,     0.98198,     0.98298,     0.98398,\n",
              "           0.98498,     0.98599,     0.98699,     0.98799,     0.98899,     0.98999,     0.99099,     0.99199,     0.99299,     0.99399,     0.99499,       0.996,       0.997,       0.998,       0.999,           1]), array([[    0.13595,     0.13595,         0.2,     0.24388,     0.27917,     0.31083,      0.3389,     0.36226,     0.38272,     0.40103,     0.41458,     0.42951,     0.44242,     0.45688,     0.46995,     0.48407,     0.49504,     0.50609,     0.51542,     0.52268,     0.53108,     0.53942,     0.54672,\n",
              "            0.55267,     0.56054,     0.56786,     0.57625,      0.5821,     0.58723,      0.5923,     0.59637,     0.60112,     0.60552,     0.61069,     0.61781,     0.62209,     0.62486,     0.62903,     0.63492,     0.63981,     0.64361,     0.64749,     0.65183,     0.65655,     0.65853,     0.66175,\n",
              "             0.6651,     0.66837,     0.67053,     0.67441,     0.67679,     0.67882,     0.68132,     0.68346,     0.68641,     0.69022,     0.69178,     0.69334,      0.6967,     0.69778,     0.69796,      0.7002,     0.70067,     0.70204,     0.70326,     0.70557,     0.70683,     0.70881,     0.71003,\n",
              "            0.71286,     0.71507,     0.71836,     0.71902,     0.72087,     0.72291,     0.72593,     0.72691,     0.72946,     0.73003,     0.73149,     0.73408,     0.73582,     0.73701,     0.73733,     0.73893,     0.73999,     0.74048,     0.74186,     0.74362,       0.746,     0.74716,     0.74723,\n",
              "            0.75012,      0.7527,     0.75318,      0.7542,     0.75485,     0.75524,     0.75632,     0.75657,     0.75823,     0.76044,     0.76162,      0.7629,     0.76387,     0.76485,     0.76551,     0.76746,     0.76883,     0.77136,     0.77356,     0.77465,     0.77505,     0.77732,     0.77868,\n",
              "            0.78116,     0.78127,     0.78205,      0.7839,     0.78436,      0.7847,     0.78502,     0.78601,     0.78679,     0.78763,     0.78858,      0.7894,     0.79132,     0.79168,     0.79162,     0.79184,     0.79284,     0.79355,      0.7943,     0.79553,     0.79658,     0.79732,     0.79772,\n",
              "            0.79814,     0.79897,     0.80069,     0.80109,     0.80145,     0.80179,     0.80221,     0.80304,     0.80333,     0.80355,     0.80425,     0.80366,     0.80386,     0.80503,     0.80739,     0.80904,     0.80939,     0.81006,     0.81024,     0.81043,     0.81072,     0.81033,     0.81045,\n",
              "            0.81057,     0.81069,     0.81081,     0.81137,     0.81141,     0.81187,     0.81236,     0.81299,       0.814,      0.8146,     0.81526,     0.81578,     0.81655,     0.81641,     0.81686,     0.81779,     0.81865,     0.81904,     0.81953,     0.81909,     0.81904,     0.81934,      0.8202,\n",
              "            0.82095,     0.82116,     0.82136,     0.82182,     0.82072,     0.82066,     0.82084,     0.82102,     0.82235,     0.82292,     0.82296,     0.82254,     0.82346,      0.8237,     0.82394,     0.82472,     0.82474,     0.82457,     0.82519,     0.82601,     0.82629,     0.82718,     0.82693,\n",
              "            0.82714,     0.82773,     0.82828,      0.8298,      0.8302,      0.8306,     0.83072,     0.83124,     0.83165,     0.83206,     0.83234,     0.83317,     0.83345,     0.83434,     0.83481,     0.83516,     0.83614,     0.83573,     0.83591,     0.83609,     0.83658,     0.83707,     0.83654,\n",
              "            0.83576,     0.83556,     0.83535,     0.83515,     0.83506,     0.83536,     0.83584,     0.83723,     0.83761,     0.83838,     0.83865,     0.83911,     0.83911,     0.83868,     0.84013,     0.84157,     0.84219,     0.84257,     0.84272,     0.84285,     0.84298,      0.8431,     0.84358,\n",
              "            0.84364,     0.84385,     0.84406,     0.84434,     0.84399,     0.84414,     0.84432,     0.84379,     0.84389,     0.84418,     0.84506,     0.84618,     0.84653,     0.84666,     0.84678,      0.8469,     0.84703,     0.84722,     0.84748,     0.84781,     0.84825,     0.84843,     0.84862,\n",
              "             0.8488,     0.84886,     0.84932,     0.84961,     0.84993,     0.85027,     0.84987,     0.85052,      0.8515,     0.85184,     0.85159,     0.85127,     0.85127,     0.85167,     0.85186,     0.85204,     0.85222,     0.85265,     0.85296,     0.85316,     0.85336,     0.85396,     0.85433,\n",
              "            0.85435,     0.85341,     0.85344,     0.85374,     0.85392,     0.85409,     0.85461,     0.85415,      0.8542,      0.8545,     0.85542,     0.85576,     0.85535,     0.85499,     0.85534,     0.85599,     0.85717,     0.85744,     0.85759,     0.85774,      0.8579,      0.8583,     0.85871,\n",
              "            0.85906,     0.85899,     0.85882,     0.85864,     0.85847,     0.85804,     0.85729,     0.85693,     0.85577,     0.85541,     0.85519,     0.85532,     0.85545,     0.85558,     0.85571,     0.85498,     0.85514,     0.85531,     0.85547,     0.85561,     0.85574,     0.85587,       0.856,\n",
              "            0.85613,     0.85639,     0.85666,     0.85686,     0.85702,     0.85718,     0.85735,     0.85757,      0.8578,     0.85816,     0.85885,     0.85932,      0.8596,     0.85986,     0.86011,     0.86035,     0.86063,      0.8609,     0.86114,     0.86136,     0.86151,     0.86115,     0.86078,\n",
              "            0.86088,     0.86101,     0.86114,     0.86127,     0.86112,     0.86097,      0.8618,     0.86199,     0.86218,     0.86237,     0.86225,     0.86211,     0.86196,     0.86182,     0.86168,     0.86179,     0.86237,     0.86297,     0.86357,     0.86382,     0.86428,     0.86442,     0.86412,\n",
              "            0.86384,     0.86415,     0.86442,     0.86417,     0.86391,     0.86366,     0.86387,     0.86412,     0.86455,     0.86504,      0.8654,     0.86445,     0.86418,      0.8639,     0.86441,      0.8648,     0.86521,     0.86576,     0.86597,     0.86618,      0.8661,     0.86621,     0.86644,\n",
              "            0.86667,     0.86716,     0.86725,     0.86704,     0.86683,     0.86662,     0.86641,     0.86618,     0.86596,     0.86577,     0.86593,     0.86609,     0.86625,     0.86703,     0.86715,     0.86728,     0.86741,     0.86754,       0.867,     0.86716,     0.86675,     0.86711,     0.86808,\n",
              "             0.8684,     0.86894,     0.86936,     0.86968,     0.86918,     0.86951,     0.86949,      0.8694,      0.8693,     0.86921,     0.86912,     0.86902,     0.86893,     0.86884,     0.86877,     0.87002,     0.87026,     0.87049,      0.8699,     0.87012,     0.87033,     0.87055,     0.87077,\n",
              "            0.87098,     0.87143,     0.87149,     0.87107,     0.87095,     0.87103,     0.87111,     0.87119,     0.87127,     0.87135,     0.87143,     0.87152,     0.87171,     0.87192,     0.87214,     0.87163,     0.87195,     0.87228,     0.87261,     0.87294,     0.87326,     0.87312,     0.87298,\n",
              "            0.87284,     0.87269,     0.87255,     0.87239,     0.87211,     0.87182,     0.87221,     0.87204,     0.87187,      0.8717,     0.87153,     0.87153,     0.87186,     0.87189,     0.87146,     0.87084,     0.87046,     0.87059,     0.87072,     0.87085,     0.87099,     0.87053,     0.87034,\n",
              "            0.87056,     0.87078,     0.87108,     0.87141,     0.87117,     0.87075,     0.87083,     0.87105,     0.87127,     0.87112,      0.8709,     0.87069,     0.87047,     0.86922,     0.86879,     0.86865,      0.8685,     0.86836,     0.86822,     0.86807,     0.86788,     0.86745,     0.86725,\n",
              "            0.86772,     0.86754,     0.86737,      0.8672,     0.86703,     0.86661,     0.86663,     0.86642,      0.8662,     0.86599,     0.86546,     0.86488,     0.86459,      0.8643,     0.86393,     0.86349,     0.86279,     0.86262,     0.86284,     0.86306,     0.86325,     0.86341,     0.86358,\n",
              "            0.86374,     0.86268,     0.86239,      0.8621,     0.86185,      0.8616,     0.86135,     0.86165,     0.86121,     0.86085,     0.86056,     0.86027,     0.85989,     0.85945,     0.85901,     0.85857,     0.85813,     0.85769,     0.85782,     0.85815,     0.85579,     0.85617,     0.85618,\n",
              "             0.8558,     0.85551,     0.85521,     0.85477,     0.85433,     0.85419,     0.85405,     0.85391,     0.85378,     0.85364,      0.8535,     0.85247,     0.85229,     0.85211,     0.85193,     0.85175,     0.85197,      0.8523,     0.85163,     0.85073,     0.84942,     0.84906,       0.849,\n",
              "            0.84933,     0.84848,     0.84818,     0.84788,     0.84767,     0.84753,     0.84739,     0.84725,     0.84711,     0.84697,       0.847,      0.8473,     0.84722,     0.84699,     0.84676,     0.84654,     0.84623,     0.84577,     0.84526,     0.84465,     0.84433,     0.84403,     0.84373,\n",
              "            0.84406,     0.84432,     0.84352,     0.84397,     0.84321,     0.84354,     0.84303,     0.84244,     0.84198,     0.84069,     0.84032,     0.83978,     0.83938,     0.83915,      0.8395,     0.83933,     0.83916,     0.83899,     0.83883,     0.83864,     0.83777,      0.8381,     0.83762,\n",
              "            0.83759,     0.83741,     0.83613,     0.83628,     0.83603,     0.83519,     0.83472,     0.83458,     0.83475,     0.83408,     0.83397,     0.83385,     0.83373,     0.83361,     0.83349,     0.83338,     0.83326,     0.83287,     0.83222,     0.83131,     0.83084,      0.8303,     0.82919,\n",
              "            0.82903,     0.82877,     0.82689,     0.82662,     0.82635,     0.82492,     0.82473,     0.82457,      0.8233,     0.82281,     0.82218,     0.82104,     0.82138,     0.81963,     0.81865,     0.81672,      0.8158,      0.8154,     0.81501,     0.81424,     0.81277,     0.81205,     0.81232,\n",
              "            0.81259,     0.81092,     0.80993,     0.80943,     0.80903,     0.80756,      0.8069,     0.80593,     0.80556,     0.80523,     0.80491,     0.80558,     0.80511,     0.80465,     0.80475,     0.80446,     0.80417,     0.80387,     0.80354,      0.8032,     0.80351,     0.80311,      0.8027,\n",
              "            0.80291,     0.80325,     0.80285,     0.80235,     0.80194,     0.80134,     0.80085,     0.80056,     0.80027,     0.79896,     0.79828,      0.7974,     0.79596,     0.79555,     0.79514,     0.79546,     0.79484,      0.7942,     0.79369,     0.79076,     0.79006,     0.78908,     0.78834,\n",
              "            0.78649,     0.78499,     0.78388,     0.78334,     0.78281,     0.78178,     0.78136,     0.78094,     0.78028,     0.77908,     0.77864,     0.77777,     0.77682,     0.77628,      0.7754,     0.77497,     0.77454,     0.77109,     0.77037,     0.76981,     0.76927,     0.76824,     0.76663,\n",
              "            0.76572,       0.765,     0.76427,     0.76243,      0.7617,     0.75935,     0.75962,     0.75814,     0.75434,     0.75335,      0.7528,     0.75274,     0.75066,      0.7505,     0.74872,     0.74816,     0.74422,     0.74347,     0.74132,     0.74048,     0.73899,     0.73782,     0.73614,\n",
              "            0.73389,     0.73225,     0.72832,     0.72754,     0.72651,     0.72421,     0.72026,     0.71948,     0.71636,     0.71522,     0.71393,     0.71137,     0.71018,     0.70782,     0.70554,     0.70429,     0.70016,     0.69962,     0.69913,      0.6977,     0.69721,     0.69672,     0.69459,\n",
              "            0.69184,     0.68977,     0.68829,     0.68669,     0.68453,     0.68326,       0.681,     0.68037,     0.67677,     0.67242,     0.67007,     0.66922,     0.66611,     0.66545,     0.66415,      0.6612,       0.659,     0.65412,     0.65118,     0.64832,     0.64744,     0.64656,     0.64472,\n",
              "            0.64339,     0.63913,     0.63691,     0.63602,     0.63512,     0.63143,     0.62958,     0.62471,     0.62375,     0.62335,     0.62296,     0.62257,     0.61648,     0.61534,     0.61157,     0.60877,     0.60459,     0.60311,      0.6024,     0.59747,     0.59364,     0.59268,     0.58888,\n",
              "            0.58287,       0.582,     0.58127,     0.57947,     0.57874,     0.57711,      0.5741,      0.5719,     0.57042,     0.56674,     0.56385,     0.56285,     0.55643,     0.55327,     0.54874,     0.54669,     0.54262,     0.53652,     0.53074,     0.52765,     0.52562,     0.51833,     0.51362,\n",
              "            0.51144,     0.50508,     0.49547,      0.4929,      0.4905,     0.48557,     0.48228,      0.4789,     0.47554,     0.46887,     0.46067,      0.4587,     0.45351,     0.44838,     0.44197,     0.43844,     0.43364,     0.43011,     0.42601,     0.41888,     0.41347,     0.39901,     0.39606,\n",
              "            0.39337,     0.38774,     0.38169,     0.38074,     0.37092,     0.36996,     0.36495,     0.35884,     0.35362,     0.34553,     0.33608,     0.33364,     0.32167,     0.31812,     0.31406,     0.30731,     0.29906,     0.28969,     0.28828,     0.28013,     0.27161,     0.26727,     0.25863,\n",
              "            0.25211,     0.24979,     0.24534,     0.23427,      0.2253,     0.22217,     0.21651,     0.21442,     0.21327,       0.209,     0.20206,     0.19736,     0.19032,     0.18323,     0.17608,     0.16507,     0.16263,      0.1543,     0.14803,     0.14679,     0.13696,     0.12703,      0.1195,\n",
              "            0.11417,     0.10647,    0.093958,    0.085704,    0.070418,    0.064479,    0.059559,    0.058467,    0.053421,    0.047911,     0.04399,    0.043198,    0.042404,     0.04161,    0.035621,    0.034502,    0.033381,    0.030575,    0.022242,    0.019197,    0.015719,    0.013352,    0.010525,\n",
              "          0.0093768,   0.0081713,   0.0067322,   0.0051742,   0.0032493,           0,           0,           0,           0,           0,           0,           0,           0,           0,           0,           0,           0,           0,           0,           0,           0,           0,           0,\n",
              "                  0,           0,           0,           0,           0,           0,           0,           0,           0,           0,           0]]), 'Confidence', 'F1'], [array([          0,    0.001001,    0.002002,    0.003003,    0.004004,    0.005005,    0.006006,    0.007007,    0.008008,    0.009009,     0.01001,    0.011011,    0.012012,    0.013013,    0.014014,    0.015015,    0.016016,    0.017017,    0.018018,    0.019019,     0.02002,    0.021021,    0.022022,    0.023023,\n",
              "          0.024024,    0.025025,    0.026026,    0.027027,    0.028028,    0.029029,     0.03003,    0.031031,    0.032032,    0.033033,    0.034034,    0.035035,    0.036036,    0.037037,    0.038038,    0.039039,     0.04004,    0.041041,    0.042042,    0.043043,    0.044044,    0.045045,    0.046046,    0.047047,\n",
              "          0.048048,    0.049049,     0.05005,    0.051051,    0.052052,    0.053053,    0.054054,    0.055055,    0.056056,    0.057057,    0.058058,    0.059059,     0.06006,    0.061061,    0.062062,    0.063063,    0.064064,    0.065065,    0.066066,    0.067067,    0.068068,    0.069069,     0.07007,    0.071071,\n",
              "          0.072072,    0.073073,    0.074074,    0.075075,    0.076076,    0.077077,    0.078078,    0.079079,     0.08008,    0.081081,    0.082082,    0.083083,    0.084084,    0.085085,    0.086086,    0.087087,    0.088088,    0.089089,     0.09009,    0.091091,    0.092092,    0.093093,    0.094094,    0.095095,\n",
              "          0.096096,    0.097097,    0.098098,    0.099099,      0.1001,      0.1011,      0.1021,      0.1031,      0.1041,     0.10511,     0.10611,     0.10711,     0.10811,     0.10911,     0.11011,     0.11111,     0.11211,     0.11311,     0.11411,     0.11512,     0.11612,     0.11712,     0.11812,     0.11912,\n",
              "           0.12012,     0.12112,     0.12212,     0.12312,     0.12412,     0.12513,     0.12613,     0.12713,     0.12813,     0.12913,     0.13013,     0.13113,     0.13213,     0.13313,     0.13413,     0.13514,     0.13614,     0.13714,     0.13814,     0.13914,     0.14014,     0.14114,     0.14214,     0.14314,\n",
              "           0.14414,     0.14515,     0.14615,     0.14715,     0.14815,     0.14915,     0.15015,     0.15115,     0.15215,     0.15315,     0.15415,     0.15516,     0.15616,     0.15716,     0.15816,     0.15916,     0.16016,     0.16116,     0.16216,     0.16316,     0.16416,     0.16517,     0.16617,     0.16717,\n",
              "           0.16817,     0.16917,     0.17017,     0.17117,     0.17217,     0.17317,     0.17417,     0.17518,     0.17618,     0.17718,     0.17818,     0.17918,     0.18018,     0.18118,     0.18218,     0.18318,     0.18418,     0.18519,     0.18619,     0.18719,     0.18819,     0.18919,     0.19019,     0.19119,\n",
              "           0.19219,     0.19319,     0.19419,      0.1952,      0.1962,      0.1972,      0.1982,      0.1992,      0.2002,      0.2012,      0.2022,      0.2032,      0.2042,     0.20521,     0.20621,     0.20721,     0.20821,     0.20921,     0.21021,     0.21121,     0.21221,     0.21321,     0.21421,     0.21522,\n",
              "           0.21622,     0.21722,     0.21822,     0.21922,     0.22022,     0.22122,     0.22222,     0.22322,     0.22422,     0.22523,     0.22623,     0.22723,     0.22823,     0.22923,     0.23023,     0.23123,     0.23223,     0.23323,     0.23423,     0.23524,     0.23624,     0.23724,     0.23824,     0.23924,\n",
              "           0.24024,     0.24124,     0.24224,     0.24324,     0.24424,     0.24525,     0.24625,     0.24725,     0.24825,     0.24925,     0.25025,     0.25125,     0.25225,     0.25325,     0.25425,     0.25526,     0.25626,     0.25726,     0.25826,     0.25926,     0.26026,     0.26126,     0.26226,     0.26326,\n",
              "           0.26426,     0.26527,     0.26627,     0.26727,     0.26827,     0.26927,     0.27027,     0.27127,     0.27227,     0.27327,     0.27427,     0.27528,     0.27628,     0.27728,     0.27828,     0.27928,     0.28028,     0.28128,     0.28228,     0.28328,     0.28428,     0.28529,     0.28629,     0.28729,\n",
              "           0.28829,     0.28929,     0.29029,     0.29129,     0.29229,     0.29329,     0.29429,      0.2953,      0.2963,      0.2973,      0.2983,      0.2993,      0.3003,      0.3013,      0.3023,      0.3033,      0.3043,     0.30531,     0.30631,     0.30731,     0.30831,     0.30931,     0.31031,     0.31131,\n",
              "           0.31231,     0.31331,     0.31431,     0.31532,     0.31632,     0.31732,     0.31832,     0.31932,     0.32032,     0.32132,     0.32232,     0.32332,     0.32432,     0.32533,     0.32633,     0.32733,     0.32833,     0.32933,     0.33033,     0.33133,     0.33233,     0.33333,     0.33433,     0.33534,\n",
              "           0.33634,     0.33734,     0.33834,     0.33934,     0.34034,     0.34134,     0.34234,     0.34334,     0.34434,     0.34535,     0.34635,     0.34735,     0.34835,     0.34935,     0.35035,     0.35135,     0.35235,     0.35335,     0.35435,     0.35536,     0.35636,     0.35736,     0.35836,     0.35936,\n",
              "           0.36036,     0.36136,     0.36236,     0.36336,     0.36436,     0.36537,     0.36637,     0.36737,     0.36837,     0.36937,     0.37037,     0.37137,     0.37237,     0.37337,     0.37437,     0.37538,     0.37638,     0.37738,     0.37838,     0.37938,     0.38038,     0.38138,     0.38238,     0.38338,\n",
              "           0.38438,     0.38539,     0.38639,     0.38739,     0.38839,     0.38939,     0.39039,     0.39139,     0.39239,     0.39339,     0.39439,      0.3954,      0.3964,      0.3974,      0.3984,      0.3994,      0.4004,      0.4014,      0.4024,      0.4034,      0.4044,     0.40541,     0.40641,     0.40741,\n",
              "           0.40841,     0.40941,     0.41041,     0.41141,     0.41241,     0.41341,     0.41441,     0.41542,     0.41642,     0.41742,     0.41842,     0.41942,     0.42042,     0.42142,     0.42242,     0.42342,     0.42442,     0.42543,     0.42643,     0.42743,     0.42843,     0.42943,     0.43043,     0.43143,\n",
              "           0.43243,     0.43343,     0.43443,     0.43544,     0.43644,     0.43744,     0.43844,     0.43944,     0.44044,     0.44144,     0.44244,     0.44344,     0.44444,     0.44545,     0.44645,     0.44745,     0.44845,     0.44945,     0.45045,     0.45145,     0.45245,     0.45345,     0.45445,     0.45546,\n",
              "           0.45646,     0.45746,     0.45846,     0.45946,     0.46046,     0.46146,     0.46246,     0.46346,     0.46446,     0.46547,     0.46647,     0.46747,     0.46847,     0.46947,     0.47047,     0.47147,     0.47247,     0.47347,     0.47447,     0.47548,     0.47648,     0.47748,     0.47848,     0.47948,\n",
              "           0.48048,     0.48148,     0.48248,     0.48348,     0.48448,     0.48549,     0.48649,     0.48749,     0.48849,     0.48949,     0.49049,     0.49149,     0.49249,     0.49349,     0.49449,      0.4955,      0.4965,      0.4975,      0.4985,      0.4995,      0.5005,      0.5015,      0.5025,      0.5035,\n",
              "            0.5045,     0.50551,     0.50651,     0.50751,     0.50851,     0.50951,     0.51051,     0.51151,     0.51251,     0.51351,     0.51451,     0.51552,     0.51652,     0.51752,     0.51852,     0.51952,     0.52052,     0.52152,     0.52252,     0.52352,     0.52452,     0.52553,     0.52653,     0.52753,\n",
              "           0.52853,     0.52953,     0.53053,     0.53153,     0.53253,     0.53353,     0.53453,     0.53554,     0.53654,     0.53754,     0.53854,     0.53954,     0.54054,     0.54154,     0.54254,     0.54354,     0.54454,     0.54555,     0.54655,     0.54755,     0.54855,     0.54955,     0.55055,     0.55155,\n",
              "           0.55255,     0.55355,     0.55455,     0.55556,     0.55656,     0.55756,     0.55856,     0.55956,     0.56056,     0.56156,     0.56256,     0.56356,     0.56456,     0.56557,     0.56657,     0.56757,     0.56857,     0.56957,     0.57057,     0.57157,     0.57257,     0.57357,     0.57457,     0.57558,\n",
              "           0.57658,     0.57758,     0.57858,     0.57958,     0.58058,     0.58158,     0.58258,     0.58358,     0.58458,     0.58559,     0.58659,     0.58759,     0.58859,     0.58959,     0.59059,     0.59159,     0.59259,     0.59359,     0.59459,      0.5956,      0.5966,      0.5976,      0.5986,      0.5996,\n",
              "            0.6006,      0.6016,      0.6026,      0.6036,      0.6046,     0.60561,     0.60661,     0.60761,     0.60861,     0.60961,     0.61061,     0.61161,     0.61261,     0.61361,     0.61461,     0.61562,     0.61662,     0.61762,     0.61862,     0.61962,     0.62062,     0.62162,     0.62262,     0.62362,\n",
              "           0.62462,     0.62563,     0.62663,     0.62763,     0.62863,     0.62963,     0.63063,     0.63163,     0.63263,     0.63363,     0.63463,     0.63564,     0.63664,     0.63764,     0.63864,     0.63964,     0.64064,     0.64164,     0.64264,     0.64364,     0.64464,     0.64565,     0.64665,     0.64765,\n",
              "           0.64865,     0.64965,     0.65065,     0.65165,     0.65265,     0.65365,     0.65465,     0.65566,     0.65666,     0.65766,     0.65866,     0.65966,     0.66066,     0.66166,     0.66266,     0.66366,     0.66466,     0.66567,     0.66667,     0.66767,     0.66867,     0.66967,     0.67067,     0.67167,\n",
              "           0.67267,     0.67367,     0.67467,     0.67568,     0.67668,     0.67768,     0.67868,     0.67968,     0.68068,     0.68168,     0.68268,     0.68368,     0.68468,     0.68569,     0.68669,     0.68769,     0.68869,     0.68969,     0.69069,     0.69169,     0.69269,     0.69369,     0.69469,      0.6957,\n",
              "            0.6967,      0.6977,      0.6987,      0.6997,      0.7007,      0.7017,      0.7027,      0.7037,      0.7047,     0.70571,     0.70671,     0.70771,     0.70871,     0.70971,     0.71071,     0.71171,     0.71271,     0.71371,     0.71471,     0.71572,     0.71672,     0.71772,     0.71872,     0.71972,\n",
              "           0.72072,     0.72172,     0.72272,     0.72372,     0.72472,     0.72573,     0.72673,     0.72773,     0.72873,     0.72973,     0.73073,     0.73173,     0.73273,     0.73373,     0.73473,     0.73574,     0.73674,     0.73774,     0.73874,     0.73974,     0.74074,     0.74174,     0.74274,     0.74374,\n",
              "           0.74474,     0.74575,     0.74675,     0.74775,     0.74875,     0.74975,     0.75075,     0.75175,     0.75275,     0.75375,     0.75475,     0.75576,     0.75676,     0.75776,     0.75876,     0.75976,     0.76076,     0.76176,     0.76276,     0.76376,     0.76476,     0.76577,     0.76677,     0.76777,\n",
              "           0.76877,     0.76977,     0.77077,     0.77177,     0.77277,     0.77377,     0.77477,     0.77578,     0.77678,     0.77778,     0.77878,     0.77978,     0.78078,     0.78178,     0.78278,     0.78378,     0.78478,     0.78579,     0.78679,     0.78779,     0.78879,     0.78979,     0.79079,     0.79179,\n",
              "           0.79279,     0.79379,     0.79479,      0.7958,      0.7968,      0.7978,      0.7988,      0.7998,      0.8008,      0.8018,      0.8028,      0.8038,      0.8048,     0.80581,     0.80681,     0.80781,     0.80881,     0.80981,     0.81081,     0.81181,     0.81281,     0.81381,     0.81481,     0.81582,\n",
              "           0.81682,     0.81782,     0.81882,     0.81982,     0.82082,     0.82182,     0.82282,     0.82382,     0.82482,     0.82583,     0.82683,     0.82783,     0.82883,     0.82983,     0.83083,     0.83183,     0.83283,     0.83383,     0.83483,     0.83584,     0.83684,     0.83784,     0.83884,     0.83984,\n",
              "           0.84084,     0.84184,     0.84284,     0.84384,     0.84484,     0.84585,     0.84685,     0.84785,     0.84885,     0.84985,     0.85085,     0.85185,     0.85285,     0.85385,     0.85485,     0.85586,     0.85686,     0.85786,     0.85886,     0.85986,     0.86086,     0.86186,     0.86286,     0.86386,\n",
              "           0.86486,     0.86587,     0.86687,     0.86787,     0.86887,     0.86987,     0.87087,     0.87187,     0.87287,     0.87387,     0.87487,     0.87588,     0.87688,     0.87788,     0.87888,     0.87988,     0.88088,     0.88188,     0.88288,     0.88388,     0.88488,     0.88589,     0.88689,     0.88789,\n",
              "           0.88889,     0.88989,     0.89089,     0.89189,     0.89289,     0.89389,     0.89489,      0.8959,      0.8969,      0.8979,      0.8989,      0.8999,      0.9009,      0.9019,      0.9029,      0.9039,      0.9049,     0.90591,     0.90691,     0.90791,     0.90891,     0.90991,     0.91091,     0.91191,\n",
              "           0.91291,     0.91391,     0.91491,     0.91592,     0.91692,     0.91792,     0.91892,     0.91992,     0.92092,     0.92192,     0.92292,     0.92392,     0.92492,     0.92593,     0.92693,     0.92793,     0.92893,     0.92993,     0.93093,     0.93193,     0.93293,     0.93393,     0.93493,     0.93594,\n",
              "           0.93694,     0.93794,     0.93894,     0.93994,     0.94094,     0.94194,     0.94294,     0.94394,     0.94494,     0.94595,     0.94695,     0.94795,     0.94895,     0.94995,     0.95095,     0.95195,     0.95295,     0.95395,     0.95495,     0.95596,     0.95696,     0.95796,     0.95896,     0.95996,\n",
              "           0.96096,     0.96196,     0.96296,     0.96396,     0.96496,     0.96597,     0.96697,     0.96797,     0.96897,     0.96997,     0.97097,     0.97197,     0.97297,     0.97397,     0.97497,     0.97598,     0.97698,     0.97798,     0.97898,     0.97998,     0.98098,     0.98198,     0.98298,     0.98398,\n",
              "           0.98498,     0.98599,     0.98699,     0.98799,     0.98899,     0.98999,     0.99099,     0.99199,     0.99299,     0.99399,     0.99499,       0.996,       0.997,       0.998,       0.999,           1]), array([[    0.07305,     0.07305,     0.11147,     0.13956,     0.16316,     0.18532,     0.20569,     0.22331,     0.23915,     0.25363,     0.26456,     0.27684,     0.28779,     0.30015,     0.31154,     0.32407,     0.33398,     0.34412,      0.3528,     0.35984,     0.36785,      0.3759,     0.38303,\n",
              "            0.38913,     0.39722,     0.40461,     0.41345,     0.41951,     0.42486,     0.43018,      0.4345,     0.43955,     0.44427,     0.44986,     0.45763,     0.46242,     0.46643,      0.4711,     0.47773,     0.48329,     0.48764,     0.49211,     0.49715,     0.50266,     0.50498,     0.50877,\n",
              "            0.51275,     0.51665,     0.51924,      0.5239,     0.52678,     0.52925,     0.53273,     0.53536,     0.53945,     0.54418,     0.54611,     0.54806,     0.55276,     0.55411,     0.55472,     0.55817,     0.55926,     0.56102,     0.56299,     0.56606,     0.56768,     0.57077,     0.57235,\n",
              "            0.57658,     0.57946,     0.58381,     0.58524,     0.58768,      0.5904,     0.59444,     0.59576,     0.59977,     0.60114,     0.60312,     0.60666,     0.60903,     0.61067,     0.61172,     0.61392,     0.61539,     0.61607,     0.61798,     0.62042,     0.62375,     0.62536,     0.62676,\n",
              "            0.63084,     0.63449,     0.63518,      0.6373,     0.63823,     0.63878,     0.64033,     0.64069,     0.64307,     0.64626,     0.64797,     0.64982,     0.65124,     0.65265,     0.65361,     0.65647,     0.65848,     0.66219,     0.66545,     0.66706,     0.66765,     0.67103,     0.67306,\n",
              "            0.67677,     0.67725,     0.67887,     0.68167,     0.68237,     0.68287,     0.68336,     0.68486,     0.68605,     0.68733,     0.68878,     0.69003,     0.69298,     0.69352,     0.69423,     0.69457,     0.69611,      0.6972,     0.69836,     0.70026,      0.7019,     0.70305,     0.70375,\n",
              "            0.70514,     0.70646,     0.70914,     0.70976,     0.71034,     0.71088,     0.71153,     0.71283,     0.71329,     0.71411,     0.71561,     0.71589,     0.71671,     0.71858,     0.72276,     0.72589,     0.72644,     0.72752,     0.72782,     0.72813,      0.7286,     0.72886,     0.72905,\n",
              "            0.72924,     0.72944,     0.72963,     0.73111,     0.73152,     0.73226,     0.73306,     0.73409,     0.73574,     0.73673,      0.7378,     0.73865,     0.73991,      0.7401,     0.74136,     0.74289,     0.74433,     0.74497,      0.7459,     0.74573,     0.74591,     0.74641,     0.74783,\n",
              "             0.7491,     0.74944,     0.74977,     0.75053,     0.75037,     0.75054,     0.75084,     0.75115,     0.75337,     0.75433,     0.75464,     0.75448,     0.75622,     0.75663,     0.75704,     0.75835,     0.75879,     0.75909,     0.76015,     0.76154,     0.76201,     0.76353,     0.76386,\n",
              "            0.76447,     0.76651,     0.76745,     0.77006,     0.77076,     0.77146,      0.7727,     0.77361,     0.77431,     0.77608,     0.77657,     0.77801,      0.7785,     0.78005,     0.78088,     0.78149,     0.78322,     0.78357,     0.78388,      0.7842,     0.78506,     0.78625,     0.78607,\n",
              "             0.7858,     0.78573,     0.78566,     0.78559,     0.78566,     0.78619,     0.78705,     0.78951,     0.79019,     0.79157,     0.79205,     0.79287,     0.79334,      0.7932,     0.79582,      0.7984,     0.79951,     0.80021,     0.80047,      0.8007,     0.80094,     0.80117,     0.80203,\n",
              "            0.80329,     0.80367,     0.80405,     0.80503,     0.80491,     0.80537,     0.80587,      0.8057,     0.80607,      0.8066,      0.8082,     0.81026,     0.81091,     0.81114,     0.81136,     0.81159,     0.81182,     0.81217,     0.81265,     0.81325,     0.81407,     0.81441,     0.81474,\n",
              "            0.81507,       0.816,     0.81724,     0.81779,     0.81837,       0.819,     0.81948,     0.82069,     0.82251,     0.82315,     0.82313,     0.82304,     0.82332,     0.82406,     0.82441,     0.82476,      0.8251,     0.82589,     0.82648,     0.82686,     0.82723,     0.82836,     0.82906,\n",
              "            0.82949,     0.82922,     0.82989,     0.83047,      0.8308,     0.83112,     0.83239,     0.83226,      0.8326,     0.83317,     0.83493,     0.83558,     0.83546,     0.83539,     0.83606,      0.8373,     0.83956,     0.84008,     0.84037,     0.84066,     0.84096,     0.84173,     0.84253,\n",
              "             0.8432,     0.84329,     0.84324,     0.84319,     0.84315,     0.84303,     0.84283,     0.84273,     0.84242,     0.84232,     0.84232,     0.84257,     0.84282,     0.84307,     0.84332,     0.84325,     0.84357,     0.84388,      0.8442,     0.84448,     0.84473,     0.84499,     0.84524,\n",
              "            0.84549,     0.84599,     0.84652,     0.84691,     0.84723,     0.84755,     0.84787,     0.84831,     0.84875,     0.84945,     0.85081,     0.85174,     0.85228,     0.85279,     0.85328,     0.85377,     0.85431,     0.85485,     0.85531,     0.85576,     0.85613,     0.85604,     0.85595,\n",
              "            0.85619,     0.85644,      0.8567,     0.85696,     0.85708,     0.85775,     0.85939,     0.85978,     0.86016,     0.86054,     0.86053,      0.8605,     0.86046,     0.86043,     0.86039,     0.86077,     0.86193,     0.86313,     0.86435,     0.86485,     0.86576,     0.86643,     0.86636,\n",
              "            0.86631,     0.86694,     0.86752,     0.86746,      0.8674,     0.86734,      0.8678,      0.8683,     0.86917,     0.87018,     0.87091,     0.87083,     0.87076,      0.8707,      0.8718,      0.8726,     0.87343,     0.87455,     0.87498,     0.87541,     0.87567,     0.87696,     0.87743,\n",
              "             0.8779,      0.8789,     0.87933,     0.87929,     0.87924,      0.8792,     0.87915,      0.8791,     0.87905,     0.87904,     0.87937,     0.87969,     0.88002,     0.88163,     0.88189,     0.88216,     0.88242,     0.88269,      0.8831,     0.88394,     0.88409,     0.88485,     0.88686,\n",
              "            0.88753,     0.88867,     0.88954,     0.89021,     0.89073,     0.89141,     0.89152,      0.8915,     0.89148,     0.89146,     0.89144,     0.89142,     0.89141,     0.89139,     0.89142,     0.89406,     0.89456,     0.89506,     0.89538,     0.89584,      0.8963,     0.89676,     0.89722,\n",
              "            0.89768,     0.89862,     0.89921,     0.89913,      0.8992,     0.89937,     0.89955,     0.89972,      0.8999,     0.90007,     0.90024,     0.90042,     0.90082,     0.90129,     0.90175,     0.90227,     0.90297,     0.90367,     0.90437,     0.90508,     0.90577,     0.90575,     0.90573,\n",
              "             0.9057,     0.90568,     0.90565,     0.90562,     0.90557,     0.90553,     0.90686,     0.90683,     0.90681,     0.90678,     0.90675,     0.90698,     0.90769,     0.90809,     0.90802,     0.90791,     0.90797,     0.90826,     0.90854,     0.90883,     0.90912,     0.90915,     0.90939,\n",
              "            0.90987,     0.91035,       0.911,     0.91172,     0.91185,     0.91178,     0.91215,     0.91263,     0.91311,     0.91315,     0.91311,     0.91308,     0.91304,     0.91284,     0.91277,     0.91275,     0.91273,      0.9127,     0.91268,     0.91266,     0.91263,     0.91256,      0.9128,\n",
              "            0.91392,     0.91389,     0.91387,     0.91384,     0.91381,     0.91374,     0.91508,     0.91505,     0.91501,     0.91498,      0.9149,      0.9148,     0.91476,     0.91471,     0.91465,     0.91458,     0.91447,     0.91474,     0.91524,     0.91573,     0.91614,     0.91652,     0.91689,\n",
              "            0.91726,     0.91716,     0.91712,     0.91707,     0.91703,     0.91699,     0.91695,     0.91837,      0.9183,     0.91825,      0.9182,     0.91816,      0.9181,     0.91803,     0.91796,     0.91789,     0.91783,     0.91776,     0.91831,     0.91907,     0.91886,     0.92009,     0.92171,\n",
              "            0.92166,     0.92161,     0.92157,     0.92151,     0.92144,     0.92142,      0.9214,     0.92138,     0.92136,     0.92134,     0.92132,     0.92117,     0.92114,     0.92111,     0.92109,     0.92106,     0.92165,     0.92243,     0.92246,     0.92233,     0.92214,     0.92209,     0.92239,\n",
              "            0.92318,     0.92344,      0.9234,     0.92335,     0.92332,      0.9233,     0.92328,     0.92326,     0.92324,     0.92322,     0.92354,     0.92472,     0.92617,     0.92613,      0.9261,     0.92607,     0.92603,     0.92596,     0.92589,     0.92581,     0.92576,     0.92572,     0.92569,\n",
              "            0.92649,     0.92723,     0.92721,     0.92829,     0.93054,     0.93136,     0.93154,     0.93146,      0.9314,     0.93124,     0.93119,     0.93112,     0.93158,     0.93312,     0.93413,     0.93411,     0.93409,     0.93407,     0.93405,     0.93403,     0.93395,     0.93478,     0.93573,\n",
              "              0.937,     0.93955,     0.93996,     0.94108,     0.94269,     0.94305,       0.943,     0.94345,     0.94461,     0.94454,     0.94453,     0.94451,      0.9445,     0.94449,     0.94448,     0.94446,     0.94445,     0.94441,     0.94434,     0.94424,     0.94419,     0.94413,     0.94401,\n",
              "            0.94512,     0.94679,     0.94706,     0.94703,       0.947,     0.94686,     0.94798,     0.94995,     0.95005,        0.95,     0.94994,     0.95023,     0.95113,      0.9514,     0.95131,     0.95112,     0.95103,     0.95099,     0.95096,     0.95088,     0.95074,     0.95082,     0.95156,\n",
              "             0.9523,     0.95231,     0.95222,     0.95217,     0.95213,     0.95199,     0.95193,     0.95184,      0.9518,     0.95177,     0.95177,     0.95366,     0.95533,     0.95636,      0.9571,     0.95708,     0.95705,     0.95703,       0.957,     0.95697,     0.95881,     0.95878,     0.95875,\n",
              "            0.95954,     0.96051,      0.9606,     0.96056,     0.96227,     0.96233,     0.96229,     0.96227,     0.96225,     0.96215,      0.9621,     0.96203,     0.96192,     0.96189,     0.96186,     0.96377,     0.96418,     0.96558,     0.96554,     0.96727,     0.96722,     0.96715,     0.96711,\n",
              "            0.96698,     0.96688,     0.96681,     0.96677,     0.96673,     0.96667,     0.96664,     0.96661,     0.96855,     0.96847,     0.96933,     0.97039,     0.97033,      0.9703,     0.97228,     0.97225,     0.97223,     0.97203,     0.97199,     0.97196,     0.97192,     0.97186,     0.97177,\n",
              "            0.97172,     0.97168,     0.97163,     0.97362,     0.97358,     0.97371,     0.97559,     0.97552,     0.97533,     0.97527,     0.97525,     0.97641,     0.97951,     0.98171,     0.98164,     0.98162,     0.98147,     0.98144,     0.98136,     0.98132,     0.98127,     0.98122,     0.98115,\n",
              "            0.98337,     0.98331,     0.98317,     0.98314,     0.98311,     0.98302,     0.98288,     0.98285,     0.98274,     0.98269,     0.98265,     0.98255,     0.98251,     0.98242,     0.98233,     0.98475,     0.98462,      0.9846,     0.98458,     0.98454,     0.98452,      0.9845,     0.98443,\n",
              "            0.98471,     0.98684,     0.98679,     0.98675,     0.98668,     0.98665,     0.98658,     0.98656,     0.98646,     0.98632,     0.98625,     0.98623,     0.98613,     0.98884,     0.99155,     0.99152,     0.99148,     0.99178,     0.99708,     0.99706,     0.99706,     0.99705,     0.99704,\n",
              "            0.99703,       0.997,     0.99699,     0.99698,     0.99697,     0.99695,     0.99693,      0.9969,     0.99689,     0.99689,     0.99689,     0.99688,     0.99684,     0.99683,      0.9968,     0.99678,     0.99675,     0.99674,     0.99673,      0.9967,     0.99667,     0.99666,     0.99663,\n",
              "            0.99658,     0.99657,     0.99656,     0.99655,     0.99654,     0.99653,      0.9965,     0.99649,     0.99647,     0.99644,     0.99642,     0.99641,     0.99635,     0.99632,     0.99628,     0.99626,     0.99622,     0.99616,     0.99611,     0.99607,     0.99605,     0.99598,     0.99593,\n",
              "            0.99591,     0.99584,     0.99573,      0.9957,     0.99567,     0.99561,     0.99557,     0.99553,     0.99549,     0.99541,      0.9953,     0.99528,           1,           1,           1,           1,           1,           1,           1,           1,           1,           1,           1,\n",
              "                  1,           1,           1,           1,           1,           1,           1,           1,           1,           1,           1,           1,           1,           1,           1,           1,           1,           1,           1,           1,           1,           1,           1,\n",
              "                  1,           1,           1,           1,           1,           1,           1,           1,           1,           1,           1,           1,           1,           1,           1,           1,           1,           1,           1,           1,           1,           1,           1,\n",
              "                  1,           1,           1,           1,           1,           1,           1,           1,           1,           1,           1,           1,           1,           1,           1,           1,           1,           1,           1,           1,           1,           1,           1,\n",
              "                  1,           1,           1,           1,           1,           1,           1,           1,           1,           1,           1,           1,           1,           1,           1,           1,           1,           1,           1,           1,           1,           1,           1,\n",
              "                  1,           1,           1,           1,           1,           1,           1,           1,           1,           1,           1]]), 'Confidence', 'Precision'], [array([          0,    0.001001,    0.002002,    0.003003,    0.004004,    0.005005,    0.006006,    0.007007,    0.008008,    0.009009,     0.01001,    0.011011,    0.012012,    0.013013,    0.014014,    0.015015,    0.016016,    0.017017,    0.018018,    0.019019,     0.02002,    0.021021,    0.022022,    0.023023,\n",
              "          0.024024,    0.025025,    0.026026,    0.027027,    0.028028,    0.029029,     0.03003,    0.031031,    0.032032,    0.033033,    0.034034,    0.035035,    0.036036,    0.037037,    0.038038,    0.039039,     0.04004,    0.041041,    0.042042,    0.043043,    0.044044,    0.045045,    0.046046,    0.047047,\n",
              "          0.048048,    0.049049,     0.05005,    0.051051,    0.052052,    0.053053,    0.054054,    0.055055,    0.056056,    0.057057,    0.058058,    0.059059,     0.06006,    0.061061,    0.062062,    0.063063,    0.064064,    0.065065,    0.066066,    0.067067,    0.068068,    0.069069,     0.07007,    0.071071,\n",
              "          0.072072,    0.073073,    0.074074,    0.075075,    0.076076,    0.077077,    0.078078,    0.079079,     0.08008,    0.081081,    0.082082,    0.083083,    0.084084,    0.085085,    0.086086,    0.087087,    0.088088,    0.089089,     0.09009,    0.091091,    0.092092,    0.093093,    0.094094,    0.095095,\n",
              "          0.096096,    0.097097,    0.098098,    0.099099,      0.1001,      0.1011,      0.1021,      0.1031,      0.1041,     0.10511,     0.10611,     0.10711,     0.10811,     0.10911,     0.11011,     0.11111,     0.11211,     0.11311,     0.11411,     0.11512,     0.11612,     0.11712,     0.11812,     0.11912,\n",
              "           0.12012,     0.12112,     0.12212,     0.12312,     0.12412,     0.12513,     0.12613,     0.12713,     0.12813,     0.12913,     0.13013,     0.13113,     0.13213,     0.13313,     0.13413,     0.13514,     0.13614,     0.13714,     0.13814,     0.13914,     0.14014,     0.14114,     0.14214,     0.14314,\n",
              "           0.14414,     0.14515,     0.14615,     0.14715,     0.14815,     0.14915,     0.15015,     0.15115,     0.15215,     0.15315,     0.15415,     0.15516,     0.15616,     0.15716,     0.15816,     0.15916,     0.16016,     0.16116,     0.16216,     0.16316,     0.16416,     0.16517,     0.16617,     0.16717,\n",
              "           0.16817,     0.16917,     0.17017,     0.17117,     0.17217,     0.17317,     0.17417,     0.17518,     0.17618,     0.17718,     0.17818,     0.17918,     0.18018,     0.18118,     0.18218,     0.18318,     0.18418,     0.18519,     0.18619,     0.18719,     0.18819,     0.18919,     0.19019,     0.19119,\n",
              "           0.19219,     0.19319,     0.19419,      0.1952,      0.1962,      0.1972,      0.1982,      0.1992,      0.2002,      0.2012,      0.2022,      0.2032,      0.2042,     0.20521,     0.20621,     0.20721,     0.20821,     0.20921,     0.21021,     0.21121,     0.21221,     0.21321,     0.21421,     0.21522,\n",
              "           0.21622,     0.21722,     0.21822,     0.21922,     0.22022,     0.22122,     0.22222,     0.22322,     0.22422,     0.22523,     0.22623,     0.22723,     0.22823,     0.22923,     0.23023,     0.23123,     0.23223,     0.23323,     0.23423,     0.23524,     0.23624,     0.23724,     0.23824,     0.23924,\n",
              "           0.24024,     0.24124,     0.24224,     0.24324,     0.24424,     0.24525,     0.24625,     0.24725,     0.24825,     0.24925,     0.25025,     0.25125,     0.25225,     0.25325,     0.25425,     0.25526,     0.25626,     0.25726,     0.25826,     0.25926,     0.26026,     0.26126,     0.26226,     0.26326,\n",
              "           0.26426,     0.26527,     0.26627,     0.26727,     0.26827,     0.26927,     0.27027,     0.27127,     0.27227,     0.27327,     0.27427,     0.27528,     0.27628,     0.27728,     0.27828,     0.27928,     0.28028,     0.28128,     0.28228,     0.28328,     0.28428,     0.28529,     0.28629,     0.28729,\n",
              "           0.28829,     0.28929,     0.29029,     0.29129,     0.29229,     0.29329,     0.29429,      0.2953,      0.2963,      0.2973,      0.2983,      0.2993,      0.3003,      0.3013,      0.3023,      0.3033,      0.3043,     0.30531,     0.30631,     0.30731,     0.30831,     0.30931,     0.31031,     0.31131,\n",
              "           0.31231,     0.31331,     0.31431,     0.31532,     0.31632,     0.31732,     0.31832,     0.31932,     0.32032,     0.32132,     0.32232,     0.32332,     0.32432,     0.32533,     0.32633,     0.32733,     0.32833,     0.32933,     0.33033,     0.33133,     0.33233,     0.33333,     0.33433,     0.33534,\n",
              "           0.33634,     0.33734,     0.33834,     0.33934,     0.34034,     0.34134,     0.34234,     0.34334,     0.34434,     0.34535,     0.34635,     0.34735,     0.34835,     0.34935,     0.35035,     0.35135,     0.35235,     0.35335,     0.35435,     0.35536,     0.35636,     0.35736,     0.35836,     0.35936,\n",
              "           0.36036,     0.36136,     0.36236,     0.36336,     0.36436,     0.36537,     0.36637,     0.36737,     0.36837,     0.36937,     0.37037,     0.37137,     0.37237,     0.37337,     0.37437,     0.37538,     0.37638,     0.37738,     0.37838,     0.37938,     0.38038,     0.38138,     0.38238,     0.38338,\n",
              "           0.38438,     0.38539,     0.38639,     0.38739,     0.38839,     0.38939,     0.39039,     0.39139,     0.39239,     0.39339,     0.39439,      0.3954,      0.3964,      0.3974,      0.3984,      0.3994,      0.4004,      0.4014,      0.4024,      0.4034,      0.4044,     0.40541,     0.40641,     0.40741,\n",
              "           0.40841,     0.40941,     0.41041,     0.41141,     0.41241,     0.41341,     0.41441,     0.41542,     0.41642,     0.41742,     0.41842,     0.41942,     0.42042,     0.42142,     0.42242,     0.42342,     0.42442,     0.42543,     0.42643,     0.42743,     0.42843,     0.42943,     0.43043,     0.43143,\n",
              "           0.43243,     0.43343,     0.43443,     0.43544,     0.43644,     0.43744,     0.43844,     0.43944,     0.44044,     0.44144,     0.44244,     0.44344,     0.44444,     0.44545,     0.44645,     0.44745,     0.44845,     0.44945,     0.45045,     0.45145,     0.45245,     0.45345,     0.45445,     0.45546,\n",
              "           0.45646,     0.45746,     0.45846,     0.45946,     0.46046,     0.46146,     0.46246,     0.46346,     0.46446,     0.46547,     0.46647,     0.46747,     0.46847,     0.46947,     0.47047,     0.47147,     0.47247,     0.47347,     0.47447,     0.47548,     0.47648,     0.47748,     0.47848,     0.47948,\n",
              "           0.48048,     0.48148,     0.48248,     0.48348,     0.48448,     0.48549,     0.48649,     0.48749,     0.48849,     0.48949,     0.49049,     0.49149,     0.49249,     0.49349,     0.49449,      0.4955,      0.4965,      0.4975,      0.4985,      0.4995,      0.5005,      0.5015,      0.5025,      0.5035,\n",
              "            0.5045,     0.50551,     0.50651,     0.50751,     0.50851,     0.50951,     0.51051,     0.51151,     0.51251,     0.51351,     0.51451,     0.51552,     0.51652,     0.51752,     0.51852,     0.51952,     0.52052,     0.52152,     0.52252,     0.52352,     0.52452,     0.52553,     0.52653,     0.52753,\n",
              "           0.52853,     0.52953,     0.53053,     0.53153,     0.53253,     0.53353,     0.53453,     0.53554,     0.53654,     0.53754,     0.53854,     0.53954,     0.54054,     0.54154,     0.54254,     0.54354,     0.54454,     0.54555,     0.54655,     0.54755,     0.54855,     0.54955,     0.55055,     0.55155,\n",
              "           0.55255,     0.55355,     0.55455,     0.55556,     0.55656,     0.55756,     0.55856,     0.55956,     0.56056,     0.56156,     0.56256,     0.56356,     0.56456,     0.56557,     0.56657,     0.56757,     0.56857,     0.56957,     0.57057,     0.57157,     0.57257,     0.57357,     0.57457,     0.57558,\n",
              "           0.57658,     0.57758,     0.57858,     0.57958,     0.58058,     0.58158,     0.58258,     0.58358,     0.58458,     0.58559,     0.58659,     0.58759,     0.58859,     0.58959,     0.59059,     0.59159,     0.59259,     0.59359,     0.59459,      0.5956,      0.5966,      0.5976,      0.5986,      0.5996,\n",
              "            0.6006,      0.6016,      0.6026,      0.6036,      0.6046,     0.60561,     0.60661,     0.60761,     0.60861,     0.60961,     0.61061,     0.61161,     0.61261,     0.61361,     0.61461,     0.61562,     0.61662,     0.61762,     0.61862,     0.61962,     0.62062,     0.62162,     0.62262,     0.62362,\n",
              "           0.62462,     0.62563,     0.62663,     0.62763,     0.62863,     0.62963,     0.63063,     0.63163,     0.63263,     0.63363,     0.63463,     0.63564,     0.63664,     0.63764,     0.63864,     0.63964,     0.64064,     0.64164,     0.64264,     0.64364,     0.64464,     0.64565,     0.64665,     0.64765,\n",
              "           0.64865,     0.64965,     0.65065,     0.65165,     0.65265,     0.65365,     0.65465,     0.65566,     0.65666,     0.65766,     0.65866,     0.65966,     0.66066,     0.66166,     0.66266,     0.66366,     0.66466,     0.66567,     0.66667,     0.66767,     0.66867,     0.66967,     0.67067,     0.67167,\n",
              "           0.67267,     0.67367,     0.67467,     0.67568,     0.67668,     0.67768,     0.67868,     0.67968,     0.68068,     0.68168,     0.68268,     0.68368,     0.68468,     0.68569,     0.68669,     0.68769,     0.68869,     0.68969,     0.69069,     0.69169,     0.69269,     0.69369,     0.69469,      0.6957,\n",
              "            0.6967,      0.6977,      0.6987,      0.6997,      0.7007,      0.7017,      0.7027,      0.7037,      0.7047,     0.70571,     0.70671,     0.70771,     0.70871,     0.70971,     0.71071,     0.71171,     0.71271,     0.71371,     0.71471,     0.71572,     0.71672,     0.71772,     0.71872,     0.71972,\n",
              "           0.72072,     0.72172,     0.72272,     0.72372,     0.72472,     0.72573,     0.72673,     0.72773,     0.72873,     0.72973,     0.73073,     0.73173,     0.73273,     0.73373,     0.73473,     0.73574,     0.73674,     0.73774,     0.73874,     0.73974,     0.74074,     0.74174,     0.74274,     0.74374,\n",
              "           0.74474,     0.74575,     0.74675,     0.74775,     0.74875,     0.74975,     0.75075,     0.75175,     0.75275,     0.75375,     0.75475,     0.75576,     0.75676,     0.75776,     0.75876,     0.75976,     0.76076,     0.76176,     0.76276,     0.76376,     0.76476,     0.76577,     0.76677,     0.76777,\n",
              "           0.76877,     0.76977,     0.77077,     0.77177,     0.77277,     0.77377,     0.77477,     0.77578,     0.77678,     0.77778,     0.77878,     0.77978,     0.78078,     0.78178,     0.78278,     0.78378,     0.78478,     0.78579,     0.78679,     0.78779,     0.78879,     0.78979,     0.79079,     0.79179,\n",
              "           0.79279,     0.79379,     0.79479,      0.7958,      0.7968,      0.7978,      0.7988,      0.7998,      0.8008,      0.8018,      0.8028,      0.8038,      0.8048,     0.80581,     0.80681,     0.80781,     0.80881,     0.80981,     0.81081,     0.81181,     0.81281,     0.81381,     0.81481,     0.81582,\n",
              "           0.81682,     0.81782,     0.81882,     0.81982,     0.82082,     0.82182,     0.82282,     0.82382,     0.82482,     0.82583,     0.82683,     0.82783,     0.82883,     0.82983,     0.83083,     0.83183,     0.83283,     0.83383,     0.83483,     0.83584,     0.83684,     0.83784,     0.83884,     0.83984,\n",
              "           0.84084,     0.84184,     0.84284,     0.84384,     0.84484,     0.84585,     0.84685,     0.84785,     0.84885,     0.84985,     0.85085,     0.85185,     0.85285,     0.85385,     0.85485,     0.85586,     0.85686,     0.85786,     0.85886,     0.85986,     0.86086,     0.86186,     0.86286,     0.86386,\n",
              "           0.86486,     0.86587,     0.86687,     0.86787,     0.86887,     0.86987,     0.87087,     0.87187,     0.87287,     0.87387,     0.87487,     0.87588,     0.87688,     0.87788,     0.87888,     0.87988,     0.88088,     0.88188,     0.88288,     0.88388,     0.88488,     0.88589,     0.88689,     0.88789,\n",
              "           0.88889,     0.88989,     0.89089,     0.89189,     0.89289,     0.89389,     0.89489,      0.8959,      0.8969,      0.8979,      0.8989,      0.8999,      0.9009,      0.9019,      0.9029,      0.9039,      0.9049,     0.90591,     0.90691,     0.90791,     0.90891,     0.90991,     0.91091,     0.91191,\n",
              "           0.91291,     0.91391,     0.91491,     0.91592,     0.91692,     0.91792,     0.91892,     0.91992,     0.92092,     0.92192,     0.92292,     0.92392,     0.92492,     0.92593,     0.92693,     0.92793,     0.92893,     0.92993,     0.93093,     0.93193,     0.93293,     0.93393,     0.93493,     0.93594,\n",
              "           0.93694,     0.93794,     0.93894,     0.93994,     0.94094,     0.94194,     0.94294,     0.94394,     0.94494,     0.94595,     0.94695,     0.94795,     0.94895,     0.94995,     0.95095,     0.95195,     0.95295,     0.95395,     0.95495,     0.95596,     0.95696,     0.95796,     0.95896,     0.95996,\n",
              "           0.96096,     0.96196,     0.96296,     0.96396,     0.96496,     0.96597,     0.96697,     0.96797,     0.96897,     0.96997,     0.97097,     0.97197,     0.97297,     0.97397,     0.97497,     0.97598,     0.97698,     0.97798,     0.97898,     0.97998,     0.98098,     0.98198,     0.98298,     0.98398,\n",
              "           0.98498,     0.98599,     0.98699,     0.98799,     0.98899,     0.98999,     0.99099,     0.99199,     0.99299,     0.99399,     0.99499,       0.996,       0.997,       0.998,       0.999,           1]), array([[    0.97878,     0.97878,     0.97171,     0.96605,     0.96605,     0.96322,     0.96181,     0.95898,     0.95757,     0.95757,     0.95757,     0.95757,     0.95615,     0.95615,     0.95615,     0.95615,     0.95615,     0.95615,     0.95615,     0.95474,     0.95474,     0.95474,     0.95474,\n",
              "            0.95332,     0.95191,     0.95191,      0.9505,      0.9505,      0.9505,      0.9505,      0.9505,      0.9505,      0.9505,      0.9505,      0.9505,      0.9502,     0.94625,     0.94625,     0.94625,     0.94625,     0.94625,     0.94625,     0.94625,     0.94625,     0.94625,     0.94625,\n",
              "            0.94625,     0.94625,     0.94625,     0.94625,     0.94625,     0.94625,     0.94484,     0.94484,     0.94342,     0.94342,     0.94342,     0.94342,     0.94201,     0.94201,     0.94093,     0.93918,     0.93777,     0.93777,     0.93662,     0.93635,     0.93635,     0.93494,     0.93494,\n",
              "            0.93352,     0.93352,     0.93352,     0.93211,     0.93211,     0.93211,     0.93211,     0.93211,     0.93069,     0.92928,     0.92928,     0.92928,     0.92928,     0.92928,     0.92786,     0.92786,     0.92786,     0.92786,     0.92786,     0.92786,     0.92786,     0.92786,     0.92504,\n",
              "            0.92504,     0.92504,     0.92504,     0.92362,     0.92362,     0.92362,     0.92362,     0.92362,     0.92362,     0.92362,     0.92362,     0.92362,     0.92362,     0.92362,     0.92362,     0.92362,     0.92362,     0.92362,     0.92362,     0.92362,     0.92362,     0.92362,     0.92362,\n",
              "            0.92362,     0.92304,     0.92221,     0.92221,     0.92221,     0.92221,     0.92221,     0.92221,     0.92221,     0.92221,     0.92221,     0.92221,     0.92221,     0.92221,     0.92079,     0.92079,     0.92079,     0.92079,     0.92079,     0.92079,     0.92079,     0.92079,     0.92064,\n",
              "            0.91938,     0.91938,     0.91938,     0.91938,     0.91938,     0.91938,     0.91938,     0.91938,     0.91938,     0.91859,     0.91796,     0.91596,     0.91513,     0.91513,     0.91446,     0.91372,     0.91372,     0.91372,     0.91372,     0.91372,     0.91372,     0.91231,     0.91231,\n",
              "            0.91231,     0.91231,     0.91231,     0.91144,     0.91089,     0.91089,     0.91089,     0.91089,     0.91089,     0.91089,     0.91089,     0.91089,     0.91089,     0.91027,     0.90948,     0.90948,     0.90948,     0.90948,     0.90929,     0.90846,     0.90806,     0.90806,     0.90806,\n",
              "            0.90806,     0.90806,     0.90806,     0.90806,     0.90562,     0.90523,     0.90523,     0.90523,     0.90523,     0.90523,     0.90487,      0.9041,     0.90382,     0.90382,     0.90382,     0.90382,     0.90324,      0.9024,      0.9024,      0.9024,      0.9024,      0.9024,     0.90135,\n",
              "            0.90099,     0.89958,     0.89958,     0.89958,     0.89958,     0.89958,     0.89816,     0.89816,     0.89816,     0.89675,     0.89675,     0.89675,     0.89675,     0.89675,     0.89675,     0.89675,     0.89675,     0.89533,     0.89533,     0.89533,     0.89533,      0.8949,     0.89394,\n",
              "             0.8925,     0.89213,     0.89175,     0.89138,     0.89109,     0.89109,     0.89109,     0.89109,     0.89109,     0.89109,     0.89109,     0.89109,     0.89048,     0.88971,     0.88967,     0.88967,     0.88967,     0.88967,     0.88967,     0.88967,     0.88967,     0.88967,     0.88967,\n",
              "            0.88826,     0.88826,     0.88826,     0.88769,     0.88705,     0.88685,     0.88663,     0.88566,     0.88543,     0.88543,     0.88543,     0.88543,     0.88543,     0.88543,     0.88543,     0.88543,     0.88543,     0.88543,     0.88543,     0.88543,     0.88543,     0.88543,     0.88543,\n",
              "            0.88543,     0.88447,     0.88402,     0.88402,     0.88402,     0.88402,      0.8826,      0.8826,      0.8826,      0.8826,     0.88209,     0.88151,     0.88119,     0.88119,     0.88119,     0.88119,     0.88119,     0.88119,     0.88119,     0.88119,     0.88119,     0.88119,     0.88119,\n",
              "            0.88075,     0.87906,     0.87836,     0.87836,     0.87836,     0.87836,     0.87805,     0.87722,     0.87694,     0.87694,     0.87694,     0.87694,     0.87621,     0.87553,     0.87553,     0.87553,     0.87553,     0.87553,     0.87553,     0.87553,     0.87553,     0.87553,     0.87553,\n",
              "            0.87553,     0.87528,     0.87498,     0.87467,     0.87437,      0.8736,     0.87226,     0.87161,     0.86955,     0.86891,     0.86846,     0.86846,     0.86846,     0.86846,     0.86846,     0.86704,     0.86704,     0.86704,     0.86704,     0.86704,     0.86704,     0.86704,     0.86704,\n",
              "            0.86704,     0.86704,     0.86704,     0.86704,     0.86704,     0.86704,     0.86704,     0.86704,     0.86704,     0.86704,     0.86704,     0.86704,     0.86704,     0.86704,     0.86704,     0.86704,     0.86704,     0.86704,     0.86704,     0.86704,     0.86696,     0.86632,     0.86567,\n",
              "            0.86563,     0.86563,     0.86563,     0.86563,     0.86519,     0.86421,     0.86421,     0.86421,     0.86421,     0.86421,     0.86398,     0.86373,     0.86347,     0.86322,     0.86297,      0.8628,      0.8628,      0.8628,      0.8628,      0.8628,      0.8628,     0.86242,      0.8619,\n",
              "            0.86139,     0.86139,     0.86135,      0.8609,     0.86046,     0.86001,     0.85997,     0.85997,     0.85997,     0.85997,     0.85997,     0.85818,     0.85769,     0.85721,     0.85714,     0.85714,     0.85714,     0.85714,     0.85714,     0.85714,     0.85674,     0.85573,     0.85573,\n",
              "            0.85573,     0.85573,     0.85549,     0.85513,     0.85477,     0.85441,     0.85403,     0.85364,     0.85325,      0.8529,      0.8529,      0.8529,      0.8529,      0.8529,      0.8529,      0.8529,      0.8529,      0.8529,     0.85149,     0.85101,     0.85007,     0.85007,     0.85007,\n",
              "            0.85007,     0.85007,     0.85007,     0.85007,     0.84866,     0.84866,     0.84852,     0.84836,      0.8482,     0.84804,     0.84788,     0.84772,     0.84756,      0.8474,     0.84724,     0.84724,     0.84724,     0.84724,     0.84583,     0.84583,     0.84583,     0.84583,     0.84583,\n",
              "            0.84583,     0.84583,     0.84543,     0.84471,     0.84441,     0.84441,     0.84441,     0.84441,     0.84441,     0.84441,     0.84441,     0.84441,     0.84441,     0.84441,     0.84441,       0.843,       0.843,       0.843,       0.843,       0.843,       0.843,     0.84275,     0.84251,\n",
              "            0.84227,     0.84203,     0.84179,     0.84151,     0.84102,     0.84054,      0.8401,     0.83981,     0.83952,     0.83923,     0.83894,     0.83876,     0.83876,     0.83846,     0.83774,     0.83669,     0.83593,     0.83593,     0.83593,     0.83593,     0.83593,     0.83506,     0.83451,\n",
              "            0.83451,     0.83451,     0.83451,     0.83451,     0.83397,     0.83325,      0.8331,      0.8331,      0.8331,     0.83278,     0.83242,     0.83206,      0.8317,     0.82957,     0.82885,     0.82861,     0.82837,     0.82813,     0.82788,     0.82764,     0.82732,      0.8266,     0.82603,\n",
              "            0.82596,     0.82567,     0.82538,     0.82509,      0.8248,      0.8241,     0.82306,      0.8227,     0.82233,     0.82197,     0.82109,     0.82013,     0.81964,     0.81916,     0.81854,     0.81781,     0.81664,     0.81612,     0.81612,     0.81612,     0.81612,     0.81612,     0.81612,\n",
              "            0.81612,     0.81431,     0.81383,     0.81335,     0.81293,     0.81251,      0.8121,     0.81154,     0.81081,     0.81021,     0.80973,     0.80925,     0.80862,     0.80789,     0.80717,     0.80644,     0.80572,     0.80499,     0.80481,     0.80481,     0.80083,     0.80057,     0.79934,\n",
              "            0.79873,     0.79825,     0.79777,     0.79705,     0.79633,      0.7961,     0.79588,     0.79566,     0.79543,     0.79521,     0.79499,     0.79331,     0.79302,     0.79273,     0.79244,     0.79215,     0.79208,     0.79208,     0.79089,     0.78944,     0.78733,     0.78675,     0.78642,\n",
              "            0.78642,     0.78478,     0.78429,     0.78381,     0.78347,     0.78325,     0.78302,      0.7828,     0.78258,     0.78235,     0.78218,     0.78184,     0.78067,     0.78031,     0.77995,     0.77958,     0.77909,     0.77837,     0.77754,     0.77658,     0.77607,     0.77558,     0.77511,\n",
              "            0.77511,     0.77501,     0.77369,     0.77369,     0.77086,     0.77086,     0.76989,     0.76894,     0.76822,     0.76619,     0.76561,     0.76476,     0.76379,     0.76238,     0.76228,     0.76201,     0.76175,     0.76148,     0.76122,     0.76094,     0.75955,     0.75955,     0.75813,\n",
              "            0.75726,      0.7553,     0.75295,     0.75248,     0.75106,     0.74948,     0.74875,     0.74823,     0.74778,     0.74676,     0.74658,     0.74639,     0.74621,     0.74603,     0.74585,     0.74567,     0.74549,     0.74489,     0.74389,     0.74251,     0.74178,     0.74096,     0.73927,\n",
              "            0.73833,     0.73692,     0.73379,     0.73337,     0.73296,     0.73081,     0.72984,     0.72843,     0.72638,     0.72566,     0.72471,     0.72277,     0.72277,     0.71992,     0.71847,     0.71561,     0.71423,     0.71365,     0.71307,     0.71193,     0.70977,     0.70863,     0.70863,\n",
              "            0.70863,     0.70609,     0.70464,     0.70391,     0.70333,     0.70119,     0.70022,     0.69881,     0.69827,     0.69779,     0.69731,     0.69731,     0.69571,     0.69448,     0.69423,     0.69382,     0.69341,     0.69298,      0.6925,     0.69201,      0.6915,     0.69092,     0.69034,\n",
              "            0.69024,     0.69024,     0.68961,     0.68888,     0.68741,      0.6865,      0.6858,     0.68538,     0.68497,      0.6831,     0.68214,     0.68088,     0.67884,     0.67826,     0.67768,      0.6772,      0.6761,     0.67449,     0.67377,     0.66872,     0.66776,     0.66638,     0.66535,\n",
              "            0.66277,      0.6607,     0.65917,     0.65842,     0.65768,     0.65627,     0.65569,     0.65511,      0.6533,     0.65164,     0.65064,     0.64895,     0.64765,     0.64693,     0.64483,     0.64425,     0.64367,       0.639,     0.63803,     0.63727,     0.63655,     0.63516,       0.633,\n",
              "            0.63178,     0.63082,     0.62985,     0.62653,     0.62556,     0.62235,     0.62194,     0.61999,       0.615,     0.61371,     0.61298,     0.61245,     0.60849,     0.60743,     0.60513,     0.60441,     0.59935,     0.59838,     0.59563,     0.59456,     0.59266,     0.59118,     0.58905,\n",
              "            0.58538,     0.58332,     0.57839,     0.57742,     0.57614,     0.57327,     0.56839,     0.56743,     0.56359,     0.56219,     0.56062,      0.5575,     0.55605,     0.55319,     0.55044,     0.54817,     0.54322,     0.54258,       0.542,     0.54029,     0.53971,     0.53913,     0.53661,\n",
              "            0.53324,     0.53017,     0.52844,     0.52656,     0.52405,     0.52257,     0.51995,     0.51922,     0.51507,     0.51008,     0.50741,     0.50644,     0.50291,     0.50146,     0.49929,     0.49597,     0.49351,     0.48798,     0.48346,     0.48032,     0.47935,     0.47839,     0.47639,\n",
              "            0.47494,     0.47031,     0.46792,     0.46695,     0.46599,     0.46203,     0.46005,     0.45489,     0.45386,     0.45345,     0.45303,     0.45262,     0.44622,     0.44503,      0.4411,      0.4382,     0.43389,     0.43236,     0.43163,      0.4266,     0.42271,     0.42174,      0.4179,\n",
              "            0.41189,     0.41102,     0.41029,     0.40851,     0.40778,     0.40616,     0.40319,     0.40103,     0.39958,     0.39598,     0.39317,      0.3922,       0.386,     0.38297,     0.37865,      0.3767,     0.37285,     0.36712,     0.36174,     0.35888,     0.35701,     0.35032,     0.34604,\n",
              "            0.34407,     0.33834,     0.32978,     0.32751,      0.3254,     0.32108,     0.31821,     0.31528,     0.31238,     0.30666,     0.29969,     0.29803,     0.29325,     0.28897,     0.28367,     0.28077,     0.27684,     0.27398,     0.27066,     0.26493,     0.26062,     0.24923,     0.24693,\n",
              "            0.24484,     0.24049,     0.23586,     0.23513,     0.22769,     0.22696,      0.2232,     0.21865,     0.21478,     0.20885,     0.20198,     0.20022,     0.19166,     0.18915,     0.18628,     0.18155,     0.17582,     0.16938,     0.16841,     0.16288,     0.15715,     0.15425,     0.14852,\n",
              "            0.14424,     0.14272,     0.13982,     0.13268,     0.12695,     0.12497,      0.1214,     0.12009,     0.11936,      0.1167,     0.11238,     0.10948,     0.10517,     0.10085,    0.096539,     0.08996,     0.08851,    0.083597,    0.079934,    0.079209,    0.073517,    0.067824,    0.063545,\n",
              "           0.060541,    0.056227,    0.049295,     0.04477,    0.036494,    0.033313,    0.030694,    0.030114,    0.027443,    0.024544,     0.02249,    0.022076,    0.021661,    0.021247,    0.018134,    0.017554,    0.016974,    0.015525,    0.011246,   0.0096914,   0.0079216,    0.006721,   0.0052904,\n",
              "          0.0047105,   0.0041024,   0.0033775,   0.0025938,   0.0016273,           0,           0,           0,           0,           0,           0,           0,           0,           0,           0,           0,           0,           0,           0,           0,           0,           0,           0,\n",
              "                  0,           0,           0,           0,           0,           0,           0,           0,           0,           0,           0]]), 'Confidence', 'Recall']]\n",
              "fitness: np.float64(0.6769721186507098)\n",
              "keys: ['metrics/precision(B)', 'metrics/recall(B)', 'metrics/mAP50(B)', 'metrics/mAP50-95(B)']\n",
              "maps: array([    0.65056])\n",
              "names: {0: 'Monkey'}\n",
              "plot: True\n",
              "results_dict: {'metrics/precision(B)': np.float64(0.9057747888668579), 'metrics/recall(B)': np.float64(0.842995753886843), 'metrics/mAP50(B)': np.float64(0.9146605111388533), 'metrics/mAP50-95(B)': np.float64(0.6505622972631382), 'fitness': np.float64(0.6769721186507098)}\n",
              "save_dir: PosixPath('runs/detect/train3')\n",
              "speed: {'preprocess': 0.2533606760789418, 'inference': 16.650475915302778, 'loss': 0.000391508173383461, 'postprocess': 2.0316950638889564}\n",
              "task: 'detect'"
            ]
          },
          "metadata": {},
          "execution_count": 6
        }
      ]
    },
    {
      "cell_type": "code",
      "source": [
        "!cp /content/runs/detect/train3/weights/best.pt /content/drive/MyDrive/Monkey.v11-noaugmentation.yolov8/best.pt\n",
        "\n"
      ],
      "metadata": {
        "id": "6Sc7WUT6rbo3"
      },
      "execution_count": null,
      "outputs": []
    },
    {
      "cell_type": "code",
      "source": [],
      "metadata": {
        "id": "NaQeVhTbG_5B"
      },
      "execution_count": null,
      "outputs": []
    }
  ]
}